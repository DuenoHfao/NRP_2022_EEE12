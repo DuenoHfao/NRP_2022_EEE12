{
 "cells": [
  {
   "cell_type": "code",
   "execution_count": 162,
   "metadata": {
    "collapsed": false
   },
   "outputs": [],
   "source": [
    "import scipy.io\n",
    "import pandas as pd\n",
    "\n",
    "import os\n",
    "import time\n",
    "\n",
    "import numpy as np\n",
    "import matplotlib.pyplot as plt\n",
    "\n",
    "import torch\n",
    "import torch.nn as nn\n",
    "from torch.utils.data import TensorDataset, DataLoader\n",
    "\n",
    "from tqdm import tqdm_notebook\n",
    "from sklearn.preprocessing import MinMaxScaler\n",
    "\n",
    "import pandas as pd\n",
    "import numpy as np\n",
    "import matplotlib.pyplot as plt\n",
    "from sklearn.preprocessing import MinMaxScaler, StandardScaler\n",
    "import warnings\n",
    "from scipy import stats\n",
    "import tensorflow as tf\n",
    "from tensorflow import keras\n",
    "from tensorflow.keras import Sequential, layers, callbacks\n",
    "from tensorflow.keras.layers import Dense, LSTM, Dropout, GRU, Bidirectional"
   ]
  },
  {
   "cell_type": "code",
   "execution_count": 163,
   "metadata": {
    "collapsed": false
   },
   "outputs": [],
   "source": [
    "mat = scipy.io.loadmat('Oxford_Battery_Degradation_Dataset_1.mat')"
   ]
  },
  {
   "cell_type": "code",
   "execution_count": 164,
   "metadata": {
    "collapsed": false
   },
   "outputs": [
    {
     "data": {
      "text/plain": "dict_keys(['__header__', '__version__', '__globals__', 'Cell1', 'Cell2', 'Cell3', 'Cell4', 'Cell5', 'Cell6', 'Cell7', 'Cell8'])"
     },
     "execution_count": 164,
     "metadata": {},
     "output_type": "execute_result"
    }
   ],
   "source": [
    "mat.keys()"
   ]
  },
  {
   "cell_type": "code",
   "execution_count": 165,
   "outputs": [],
   "source": [
    "input_data = [[], []]"
   ],
   "metadata": {
    "collapsed": false
   }
  },
  {
   "cell_type": "code",
   "execution_count": 166,
   "outputs": [
    {
     "name": "stdout",
     "output_type": "stream",
     "text": [
      "724.1208914093187\n",
      "714.5350426825697\n",
      "709.8543464961379\n",
      "707.0393485194566\n",
      "702.2342863457235\n",
      "698.8440013150872\n",
      "695.4850715278354\n",
      "691.6932258285015\n",
      "687.6300422440017\n",
      "684.2488065128581\n",
      "681.0607272448832\n",
      "677.8486336050008\n",
      "674.7281887527703\n",
      "671.556081370731\n",
      "668.6709791990864\n",
      "nan\n",
      "662.9724287937147\n",
      "nan\n",
      "656.4621886431951\n",
      "653.2751603988444\n",
      "650.1157422984008\n",
      "647.1105116933119\n",
      "644.0549444561768\n",
      "640.7948747304991\n",
      "638.1391374235501\n",
      "635.3790871886936\n",
      "632.3887851445143\n",
      "629.9572173218418\n",
      "627.3439847566834\n",
      "624.1095617381898\n",
      "622.448908879052\n",
      "619.9778349196439\n",
      "617.3031788485108\n",
      "615.3476618618469\n",
      "nan\n",
      "611.340570310974\n",
      "609.7195455723199\n",
      "605.1998563440754\n",
      "604.1349210491537\n",
      "602.8723865926853\n",
      "600.9075598059693\n",
      "598.2787878589917\n",
      "596.7047192299974\n",
      "594.08713143121\n",
      "591.9284795739374\n",
      "589.3588371850756\n",
      "588.0833074787903\n",
      "nan\n",
      "584.2617834340922\n",
      "nan\n",
      "579.5968326875441\n",
      "577.6717759357741\n",
      "575.5147033984103\n",
      "574.7467034891866\n",
      "572.8103356272312\n",
      "568.9614464139573\n",
      "568.632337365943\n",
      "566.7898372362026\n",
      "564.7710880962863\n",
      "563.0229675191888\n",
      "561.5319859533353\n",
      "559.0240164641148\n",
      "558.9932350188666\n",
      "557.2408422441746\n",
      "554.0352644300469\n",
      "554.4326746213887\n",
      "552.5936740321791\n",
      "550.9885335174934\n",
      "550.4593525596042\n",
      "549.1350762103983\n",
      "545.1952021221653\n",
      "545.1952021221653\n",
      "545.2029575675828\n",
      "543.6705120329285\n",
      "541.9178534255642\n",
      "539.6733627491049\n",
      "538.7682346467591\n",
      "537.5784986630249\n",
      "534.7154670857103\n",
      "534.7317288957756\n",
      "533.2962153664076\n",
      "529.4571383120897\n",
      "530.5961183990717\n"
     ]
    }
   ],
   "source": [
    "for i in range(0, 83):\n",
    "    if (i < 10):\n",
    "        if (i == 0):\n",
    "            temp = \"cyc0000\"\n",
    "        else:\n",
    "            temp = \"cyc0\" + str(i) + \"00\"\n",
    "    else:\n",
    "        temp = \"cyc\" + str(i) + \"00\"\n",
    "    try:\n",
    "        curr = mat[\"Cell1\"][0][temp][0][0][\"C1ch\"][0][0]['q'][0][-1][0]\n",
    "    except ValueError:\n",
    "        curr = float(\"NaN\")\n",
    "    input_data[0].append(i)\n",
    "    input_data[1].append(curr)\n",
    "    print(curr)"
   ],
   "metadata": {
    "collapsed": false
   }
  },
  {
   "cell_type": "code",
   "execution_count": 167,
   "outputs": [
    {
     "data": {
      "text/plain": "    cycle     q_value\n0     0.0  724.120891\n1     1.0  714.535043\n2     2.0  709.854346\n3     3.0  707.039349\n4     4.0  702.234286\n..    ...         ...\n78   78.0  534.715467\n79   79.0  534.731729\n80   80.0  533.296215\n81   81.0  529.457138\n82   82.0  530.596118\n\n[83 rows x 2 columns]",
      "text/html": "<div>\n<style scoped>\n    .dataframe tbody tr th:only-of-type {\n        vertical-align: middle;\n    }\n\n    .dataframe tbody tr th {\n        vertical-align: top;\n    }\n\n    .dataframe thead th {\n        text-align: right;\n    }\n</style>\n<table border=\"1\" class=\"dataframe\">\n  <thead>\n    <tr style=\"text-align: right;\">\n      <th></th>\n      <th>cycle</th>\n      <th>q_value</th>\n    </tr>\n  </thead>\n  <tbody>\n    <tr>\n      <th>0</th>\n      <td>0.0</td>\n      <td>724.120891</td>\n    </tr>\n    <tr>\n      <th>1</th>\n      <td>1.0</td>\n      <td>714.535043</td>\n    </tr>\n    <tr>\n      <th>2</th>\n      <td>2.0</td>\n      <td>709.854346</td>\n    </tr>\n    <tr>\n      <th>3</th>\n      <td>3.0</td>\n      <td>707.039349</td>\n    </tr>\n    <tr>\n      <th>4</th>\n      <td>4.0</td>\n      <td>702.234286</td>\n    </tr>\n    <tr>\n      <th>...</th>\n      <td>...</td>\n      <td>...</td>\n    </tr>\n    <tr>\n      <th>78</th>\n      <td>78.0</td>\n      <td>534.715467</td>\n    </tr>\n    <tr>\n      <th>79</th>\n      <td>79.0</td>\n      <td>534.731729</td>\n    </tr>\n    <tr>\n      <th>80</th>\n      <td>80.0</td>\n      <td>533.296215</td>\n    </tr>\n    <tr>\n      <th>81</th>\n      <td>81.0</td>\n      <td>529.457138</td>\n    </tr>\n    <tr>\n      <th>82</th>\n      <td>82.0</td>\n      <td>530.596118</td>\n    </tr>\n  </tbody>\n</table>\n<p>83 rows × 2 columns</p>\n</div>"
     },
     "execution_count": 167,
     "metadata": {},
     "output_type": "execute_result"
    }
   ],
   "source": [
    "df_input = pd.DataFrame(input_data).transpose()\n",
    "df_input = df_input.rename(columns = {0: \"cycle\", 1:\"q_value\"})\n",
    "df_input"
   ],
   "metadata": {
    "collapsed": false
   }
  },
  {
   "cell_type": "code",
   "execution_count": 168,
   "outputs": [
    {
     "data": {
      "text/plain": "    cycle     q_value  interpolate_spline\n0     0.0  724.120891          724.120891\n1     1.0  714.535043          714.535043\n2     2.0  709.854346          709.854346\n3     3.0  707.039349          707.039349\n4     4.0  702.234286          702.234286\n..    ...         ...                 ...\n78   78.0  534.715467          534.715467\n79   79.0  534.731729          534.731729\n80   80.0  533.296215          533.296215\n81   81.0  529.457138          529.457138\n82   82.0  530.596118          530.596118\n\n[83 rows x 3 columns]",
      "text/html": "<div>\n<style scoped>\n    .dataframe tbody tr th:only-of-type {\n        vertical-align: middle;\n    }\n\n    .dataframe tbody tr th {\n        vertical-align: top;\n    }\n\n    .dataframe thead th {\n        text-align: right;\n    }\n</style>\n<table border=\"1\" class=\"dataframe\">\n  <thead>\n    <tr style=\"text-align: right;\">\n      <th></th>\n      <th>cycle</th>\n      <th>q_value</th>\n      <th>interpolate_spline</th>\n    </tr>\n  </thead>\n  <tbody>\n    <tr>\n      <th>0</th>\n      <td>0.0</td>\n      <td>724.120891</td>\n      <td>724.120891</td>\n    </tr>\n    <tr>\n      <th>1</th>\n      <td>1.0</td>\n      <td>714.535043</td>\n      <td>714.535043</td>\n    </tr>\n    <tr>\n      <th>2</th>\n      <td>2.0</td>\n      <td>709.854346</td>\n      <td>709.854346</td>\n    </tr>\n    <tr>\n      <th>3</th>\n      <td>3.0</td>\n      <td>707.039349</td>\n      <td>707.039349</td>\n    </tr>\n    <tr>\n      <th>4</th>\n      <td>4.0</td>\n      <td>702.234286</td>\n      <td>702.234286</td>\n    </tr>\n    <tr>\n      <th>...</th>\n      <td>...</td>\n      <td>...</td>\n      <td>...</td>\n    </tr>\n    <tr>\n      <th>78</th>\n      <td>78.0</td>\n      <td>534.715467</td>\n      <td>534.715467</td>\n    </tr>\n    <tr>\n      <th>79</th>\n      <td>79.0</td>\n      <td>534.731729</td>\n      <td>534.731729</td>\n    </tr>\n    <tr>\n      <th>80</th>\n      <td>80.0</td>\n      <td>533.296215</td>\n      <td>533.296215</td>\n    </tr>\n    <tr>\n      <th>81</th>\n      <td>81.0</td>\n      <td>529.457138</td>\n      <td>529.457138</td>\n    </tr>\n    <tr>\n      <th>82</th>\n      <td>82.0</td>\n      <td>530.596118</td>\n      <td>530.596118</td>\n    </tr>\n  </tbody>\n</table>\n<p>83 rows × 3 columns</p>\n</div>"
     },
     "execution_count": 168,
     "metadata": {},
     "output_type": "execute_result"
    }
   ],
   "source": [
    "df_input['interpolate_spline'] = df_input['q_value'].interpolate(option='spline')\n",
    "df_input"
   ],
   "metadata": {
    "collapsed": false
   }
  },
  {
   "cell_type": "code",
   "execution_count": 169,
   "outputs": [],
   "source": [
    "# Split train data and test data\n",
    "\n",
    "train_size = int(len(df_input)*0.8)\n",
    "\n",
    "train_data = df_input.iloc[:train_size]\n",
    "test_data = df_input.iloc[train_size:]"
   ],
   "metadata": {
    "collapsed": false
   }
  },
  {
   "cell_type": "code",
   "execution_count": 170,
   "outputs": [],
   "source": [
    "scaler = MinMaxScaler().fit(train_data)\n",
    "train_scaled = scaler.transform(train_data)\n",
    "test_scaled = scaler.transform(test_data)"
   ],
   "metadata": {
    "collapsed": false
   }
  },
  {
   "cell_type": "code",
   "execution_count": 171,
   "outputs": [
    {
     "name": "stdout",
     "output_type": "stream",
     "text": [
      "X_train.shape:  (36, 30, 3)\n",
      "y_train.shape:  (36, 3)\n",
      "X_test.shape:  (0,)\n",
      "y_test.shape:  (0,)\n"
     ]
    }
   ],
   "source": [
    "# Create input dataset\n",
    "def create_dataset (X, look_back = 1):\n",
    "    Xs, ys = [], []\n",
    "\n",
    "    for i in range(len(X)-look_back):\n",
    "        v = X[i:i+look_back]\n",
    "        Xs.append(v)\n",
    "        ys.append(X[i+look_back])\n",
    "\n",
    "    return np.array(Xs), np.array(ys)\n",
    "LOOK_BACK = 30\n",
    "X_train, y_train = create_dataset(train_scaled,LOOK_BACK)\n",
    "X_test, y_test = create_dataset(test_scaled,LOOK_BACK)\n",
    "# Print data shape\n",
    "print('X_train.shape: ', X_train.shape)\n",
    "print('y_train.shape: ', y_train.shape)\n",
    "print('X_test.shape: ', X_test.shape)\n",
    "print('y_test.shape: ', y_test.shape)"
   ],
   "metadata": {
    "collapsed": false
   }
  },
  {
   "cell_type": "code",
   "execution_count": 172,
   "outputs": [],
   "source": [
    "# Create GRU model\n",
    "def create_gru(units):\n",
    "    model = Sequential()\n",
    "    # Input layer\n",
    "    model.add(GRU (units = units, return_sequences = True,\n",
    "    input_shape = [X_train.shape[1], X_train.shape[2]]))\n",
    "    model.add(Dropout(0.2))\n",
    "    # Hidden layer\n",
    "    model.add(GRU(units = units))\n",
    "    model.add(Dropout(0.2))\n",
    "    model.add(Dense(units = 1))\n",
    "    #Compile model\n",
    "    model.compile(optimizer='adam',loss='mse')\n",
    "    return model\n",
    "model_gru = create_gru(64)"
   ],
   "metadata": {
    "collapsed": false
   }
  },
  {
   "cell_type": "code",
   "execution_count": 173,
   "outputs": [
    {
     "name": "stdout",
     "output_type": "stream",
     "text": [
      "Epoch 1/100\n",
      "2/2 [==============================] - 8s 1s/step - loss: nan - val_loss: nan\n",
      "Epoch 2/100\n",
      "2/2 [==============================] - 0s 66ms/step - loss: nan - val_loss: nan\n",
      "Epoch 3/100\n",
      "2/2 [==============================] - 0s 72ms/step - loss: nan - val_loss: nan\n",
      "Epoch 4/100\n",
      "2/2 [==============================] - 0s 64ms/step - loss: nan - val_loss: nan\n",
      "Epoch 5/100\n",
      "2/2 [==============================] - 0s 64ms/step - loss: nan - val_loss: nan\n",
      "Epoch 6/100\n",
      "2/2 [==============================] - 0s 73ms/step - loss: nan - val_loss: nan\n",
      "Epoch 7/100\n",
      "2/2 [==============================] - 0s 72ms/step - loss: nan - val_loss: nan\n",
      "Epoch 8/100\n",
      "2/2 [==============================] - 0s 72ms/step - loss: nan - val_loss: nan\n",
      "Epoch 9/100\n",
      "2/2 [==============================] - 0s 77ms/step - loss: nan - val_loss: nan\n",
      "Epoch 10/100\n",
      "2/2 [==============================] - 0s 88ms/step - loss: nan - val_loss: nan\n"
     ]
    }
   ],
   "source": [
    "def fit_model(model):\n",
    "    early_stop = keras.callbacks.EarlyStopping(monitor = 'val_loss',\n",
    "                                               patience = 10)\n",
    "    history = model.fit(X_train, y_train, epochs = 100,\n",
    "                        validation_split = 0.2,\n",
    "                        batch_size = 16, shuffle = False,\n",
    "                        callbacks = [early_stop])\n",
    "    return history\n",
    "history_gru = fit_model(model_gru)"
   ],
   "metadata": {
    "collapsed": false
   }
  },
  {
   "cell_type": "code",
   "execution_count": 174,
   "outputs": [
    {
     "ename": "ValueError",
     "evalue": "Expected 2D array, got 1D array instead:\narray=[].\nReshape your data either using array.reshape(-1, 1) if your data has a single feature or array.reshape(1, -1) if it contains a single sample.",
     "output_type": "error",
     "traceback": [
      "\u001B[1;31m---------------------------------------------------------------------------\u001B[0m",
      "\u001B[1;31mValueError\u001B[0m                                Traceback (most recent call last)",
      "Cell \u001B[1;32mIn[174], line 1\u001B[0m\n\u001B[1;32m----> 1\u001B[0m y_test \u001B[38;5;241m=\u001B[39m \u001B[43mscaler\u001B[49m\u001B[38;5;241;43m.\u001B[39;49m\u001B[43minverse_transform\u001B[49m\u001B[43m(\u001B[49m\u001B[43my_test\u001B[49m\u001B[43m)\u001B[49m\n\u001B[0;32m      2\u001B[0m y_train \u001B[38;5;241m=\u001B[39m scaler\u001B[38;5;241m.\u001B[39minverse_transform(y_train)\n",
      "File \u001B[1;32mD:\\coding\\project\\NRP_2022_EEE12\\venv\\lib\\site-packages\\sklearn\\preprocessing\\_data.py:537\u001B[0m, in \u001B[0;36mMinMaxScaler.inverse_transform\u001B[1;34m(self, X)\u001B[0m\n\u001B[0;32m    523\u001B[0m \u001B[38;5;124;03m\"\"\"Undo the scaling of X according to feature_range.\u001B[39;00m\n\u001B[0;32m    524\u001B[0m \n\u001B[0;32m    525\u001B[0m \u001B[38;5;124;03mParameters\u001B[39;00m\n\u001B[1;32m   (...)\u001B[0m\n\u001B[0;32m    533\u001B[0m \u001B[38;5;124;03m    Transformed data.\u001B[39;00m\n\u001B[0;32m    534\u001B[0m \u001B[38;5;124;03m\"\"\"\u001B[39;00m\n\u001B[0;32m    535\u001B[0m check_is_fitted(\u001B[38;5;28mself\u001B[39m)\n\u001B[1;32m--> 537\u001B[0m X \u001B[38;5;241m=\u001B[39m \u001B[43mcheck_array\u001B[49m\u001B[43m(\u001B[49m\n\u001B[0;32m    538\u001B[0m \u001B[43m    \u001B[49m\u001B[43mX\u001B[49m\u001B[43m,\u001B[49m\u001B[43m \u001B[49m\u001B[43mcopy\u001B[49m\u001B[38;5;241;43m=\u001B[39;49m\u001B[38;5;28;43mself\u001B[39;49m\u001B[38;5;241;43m.\u001B[39;49m\u001B[43mcopy\u001B[49m\u001B[43m,\u001B[49m\u001B[43m \u001B[49m\u001B[43mdtype\u001B[49m\u001B[38;5;241;43m=\u001B[39;49m\u001B[43mFLOAT_DTYPES\u001B[49m\u001B[43m,\u001B[49m\u001B[43m \u001B[49m\u001B[43mforce_all_finite\u001B[49m\u001B[38;5;241;43m=\u001B[39;49m\u001B[38;5;124;43m\"\u001B[39;49m\u001B[38;5;124;43mallow-nan\u001B[39;49m\u001B[38;5;124;43m\"\u001B[39;49m\n\u001B[0;32m    539\u001B[0m \u001B[43m\u001B[49m\u001B[43m)\u001B[49m\n\u001B[0;32m    541\u001B[0m X \u001B[38;5;241m-\u001B[39m\u001B[38;5;241m=\u001B[39m \u001B[38;5;28mself\u001B[39m\u001B[38;5;241m.\u001B[39mmin_\n\u001B[0;32m    542\u001B[0m X \u001B[38;5;241m/\u001B[39m\u001B[38;5;241m=\u001B[39m \u001B[38;5;28mself\u001B[39m\u001B[38;5;241m.\u001B[39mscale_\n",
      "File \u001B[1;32mD:\\coding\\project\\NRP_2022_EEE12\\venv\\lib\\site-packages\\sklearn\\utils\\validation.py:900\u001B[0m, in \u001B[0;36mcheck_array\u001B[1;34m(array, accept_sparse, accept_large_sparse, dtype, order, copy, force_all_finite, ensure_2d, allow_nd, ensure_min_samples, ensure_min_features, estimator, input_name)\u001B[0m\n\u001B[0;32m    898\u001B[0m     \u001B[38;5;66;03m# If input is 1D raise error\u001B[39;00m\n\u001B[0;32m    899\u001B[0m     \u001B[38;5;28;01mif\u001B[39;00m array\u001B[38;5;241m.\u001B[39mndim \u001B[38;5;241m==\u001B[39m \u001B[38;5;241m1\u001B[39m:\n\u001B[1;32m--> 900\u001B[0m         \u001B[38;5;28;01mraise\u001B[39;00m \u001B[38;5;167;01mValueError\u001B[39;00m(\n\u001B[0;32m    901\u001B[0m             \u001B[38;5;124m\"\u001B[39m\u001B[38;5;124mExpected 2D array, got 1D array instead:\u001B[39m\u001B[38;5;130;01m\\n\u001B[39;00m\u001B[38;5;124marray=\u001B[39m\u001B[38;5;132;01m{}\u001B[39;00m\u001B[38;5;124m.\u001B[39m\u001B[38;5;130;01m\\n\u001B[39;00m\u001B[38;5;124m\"\u001B[39m\n\u001B[0;32m    902\u001B[0m             \u001B[38;5;124m\"\u001B[39m\u001B[38;5;124mReshape your data either using array.reshape(-1, 1) if \u001B[39m\u001B[38;5;124m\"\u001B[39m\n\u001B[0;32m    903\u001B[0m             \u001B[38;5;124m\"\u001B[39m\u001B[38;5;124myour data has a single feature or array.reshape(1, -1) \u001B[39m\u001B[38;5;124m\"\u001B[39m\n\u001B[0;32m    904\u001B[0m             \u001B[38;5;124m\"\u001B[39m\u001B[38;5;124mif it contains a single sample.\u001B[39m\u001B[38;5;124m\"\u001B[39m\u001B[38;5;241m.\u001B[39mformat(array)\n\u001B[0;32m    905\u001B[0m         )\n\u001B[0;32m    907\u001B[0m \u001B[38;5;28;01mif\u001B[39;00m dtype_numeric \u001B[38;5;129;01mand\u001B[39;00m array\u001B[38;5;241m.\u001B[39mdtype\u001B[38;5;241m.\u001B[39mkind \u001B[38;5;129;01min\u001B[39;00m \u001B[38;5;124m\"\u001B[39m\u001B[38;5;124mUSV\u001B[39m\u001B[38;5;124m\"\u001B[39m:\n\u001B[0;32m    908\u001B[0m     \u001B[38;5;28;01mraise\u001B[39;00m \u001B[38;5;167;01mValueError\u001B[39;00m(\n\u001B[0;32m    909\u001B[0m         \u001B[38;5;124m\"\u001B[39m\u001B[38;5;124mdtype=\u001B[39m\u001B[38;5;124m'\u001B[39m\u001B[38;5;124mnumeric\u001B[39m\u001B[38;5;124m'\u001B[39m\u001B[38;5;124m is not compatible with arrays of bytes/strings.\u001B[39m\u001B[38;5;124m\"\u001B[39m\n\u001B[0;32m    910\u001B[0m         \u001B[38;5;124m\"\u001B[39m\u001B[38;5;124mConvert your data to numeric values explicitly instead.\u001B[39m\u001B[38;5;124m\"\u001B[39m\n\u001B[0;32m    911\u001B[0m     )\n",
      "\u001B[1;31mValueError\u001B[0m: Expected 2D array, got 1D array instead:\narray=[].\nReshape your data either using array.reshape(-1, 1) if your data has a single feature or array.reshape(1, -1) if it contains a single sample."
     ]
    }
   ],
   "source": [
    "y_test = scaler.inverse_transform(y_test)\n",
    "y_train = scaler.inverse_transform(y_train)"
   ],
   "metadata": {
    "collapsed": false
   }
  },
  {
   "cell_type": "code",
   "execution_count": null,
   "outputs": [],
   "source": [
    "def plot_loss (history, model_name):\n",
    "    plt.figure(figsize = (10, 6))\n",
    "    plt.plot(history.history['loss'])\n",
    "    plt.plot(history.history['val_loss'])\n",
    "    plt.title('Model Train vs Validation Loss for ' + model_name)\n",
    "    plt.ylabel('Loss')\n",
    "    plt.xlabel('epoch')\n",
    "    plt.legend(['Train loss', 'Validation loss'], loc='upper right')\n",
    "\n",
    "plot_loss (history_gru, 'GRU')"
   ],
   "metadata": {
    "collapsed": false
   }
  }
 ],
 "metadata": {
  "kernelspec": {
   "display_name": "venv",
   "language": "python",
   "name": "python3"
  },
  "language_info": {
   "codemirror_mode": {
    "name": "ipython",
    "version": 3
   },
   "file_extension": ".py",
   "mimetype": "text/x-python",
   "name": "python",
   "nbconvert_exporter": "python",
   "pygments_lexer": "ipython3",
   "version": "3.10.8"
  },
  "vscode": {
   "interpreter": {
    "hash": "abb986b297a1e39e4a9784cac1041b65609e2eefd57e07e1d90a430925bc2fc5"
   }
  }
 },
 "nbformat": 4,
 "nbformat_minor": 0
}
