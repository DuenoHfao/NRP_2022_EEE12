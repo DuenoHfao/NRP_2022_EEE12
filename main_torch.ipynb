{
 "cells": [
  {
   "cell_type": "code",
   "execution_count": 299,
   "metadata": {
    "collapsed": false
   },
   "outputs": [],
   "source": [
    "import scipy.io\n",
    "import pandas as pd\n",
    "\n",
    "import os\n",
    "import time\n",
    "\n",
    "import numpy as np\n",
    "import matplotlib.pyplot as plt\n",
    "\n",
    "import torch\n",
    "import torch.nn as nn\n",
    "from torch.utils.data import TensorDataset, DataLoader\n",
    "\n",
    "from tqdm import tqdm_notebook\n",
    "from sklearn.preprocessing import MinMaxScaler\n",
    "\n",
    "import pandas as pd\n",
    "import numpy as np\n",
    "import matplotlib.pyplot as plt\n",
    "from sklearn.preprocessing import MinMaxScaler, StandardScaler\n",
    "import warnings\n",
    "from scipy import stats"
   ]
  },
  {
   "cell_type": "code",
   "execution_count": 300,
   "metadata": {
    "collapsed": false
   },
   "outputs": [],
   "source": [
    "mat = scipy.io.loadmat('Oxford_Battery_Degradation_Dataset_1.mat')"
   ]
  },
  {
   "cell_type": "code",
   "execution_count": 301,
   "metadata": {
    "collapsed": false
   },
   "outputs": [
    {
     "data": {
      "text/plain": "dict_keys(['__header__', '__version__', '__globals__', 'Cell1', 'Cell2', 'Cell3', 'Cell4', 'Cell5', 'Cell6', 'Cell7', 'Cell8'])"
     },
     "execution_count": 301,
     "metadata": {},
     "output_type": "execute_result"
    }
   ],
   "source": [
    "mat.keys()"
   ]
  },
  {
   "cell_type": "code",
   "execution_count": 302,
   "outputs": [],
   "source": [
    "input_data = [[], []]"
   ],
   "metadata": {
    "collapsed": false
   }
  },
  {
   "cell_type": "code",
   "execution_count": 303,
   "outputs": [
    {
     "name": "stdout",
     "output_type": "stream",
     "text": [
      "724.1208914093187\n",
      "714.5350426825697\n",
      "709.8543464961379\n",
      "707.0393485194566\n",
      "702.2342863457235\n",
      "698.8440013150872\n",
      "695.4850715278354\n",
      "691.6932258285015\n",
      "687.6300422440017\n",
      "684.2488065128581\n",
      "681.0607272448832\n",
      "677.8486336050008\n",
      "674.7281887527703\n",
      "671.556081370731\n",
      "668.6709791990864\n",
      "nan\n",
      "662.9724287937147\n",
      "nan\n",
      "656.4621886431951\n",
      "653.2751603988444\n",
      "650.1157422984008\n",
      "647.1105116933119\n",
      "644.0549444561768\n",
      "640.7948747304991\n",
      "638.1391374235501\n",
      "635.3790871886936\n",
      "632.3887851445143\n",
      "629.9572173218418\n",
      "627.3439847566834\n",
      "624.1095617381898\n",
      "622.448908879052\n",
      "619.9778349196439\n",
      "617.3031788485108\n",
      "615.3476618618469\n",
      "nan\n",
      "611.340570310974\n",
      "609.7195455723199\n",
      "605.1998563440754\n",
      "604.1349210491537\n",
      "602.8723865926853\n",
      "600.9075598059693\n",
      "598.2787878589917\n",
      "596.7047192299974\n",
      "594.08713143121\n",
      "591.9284795739374\n",
      "589.3588371850756\n",
      "588.0833074787903\n",
      "nan\n",
      "584.2617834340922\n",
      "nan\n",
      "579.5968326875441\n",
      "577.6717759357741\n",
      "575.5147033984103\n",
      "574.7467034891866\n",
      "572.8103356272312\n",
      "568.9614464139573\n",
      "568.632337365943\n",
      "566.7898372362026\n",
      "564.7710880962863\n",
      "563.0229675191888\n",
      "561.5319859533353\n",
      "559.0240164641148\n",
      "558.9932350188666\n",
      "557.2408422441746\n",
      "554.0352644300469\n",
      "554.4326746213887\n",
      "552.5936740321791\n",
      "550.9885335174934\n",
      "550.4593525596042\n",
      "549.1350762103983\n",
      "545.1952021221653\n",
      "545.1952021221653\n",
      "545.2029575675828\n",
      "543.6705120329285\n",
      "541.9178534255642\n",
      "539.6733627491049\n",
      "538.7682346467591\n",
      "537.5784986630249\n",
      "534.7154670857103\n",
      "534.7317288957756\n",
      "533.2962153664076\n",
      "529.4571383120897\n",
      "530.5961183990717\n"
     ]
    }
   ],
   "source": [
    "for i in range(0, 83):\n",
    "    if (i < 10):\n",
    "        if (i == 0):\n",
    "            temp = \"cyc0000\"\n",
    "        else:\n",
    "            temp = \"cyc0\" + str(i) + \"00\"\n",
    "    else:\n",
    "        temp = \"cyc\" + str(i) + \"00\"\n",
    "    try:\n",
    "        curr = mat[\"Cell1\"][0][temp][0][0][\"C1ch\"][0][0]['q'][0][-1][0]\n",
    "    except ValueError:\n",
    "        curr = float(\"NaN\")\n",
    "    input_data[0].append(i)\n",
    "    input_data[1].append(curr)\n",
    "    print(curr)"
   ],
   "metadata": {
    "collapsed": false
   }
  },
  {
   "cell_type": "code",
   "execution_count": 304,
   "outputs": [
    {
     "data": {
      "text/plain": "    cycle     q_value\n0     0.0  724.120891\n1     1.0  714.535043\n2     2.0  709.854346\n3     3.0  707.039349\n4     4.0  702.234286\n..    ...         ...\n78   78.0  534.715467\n79   79.0  534.731729\n80   80.0  533.296215\n81   81.0  529.457138\n82   82.0  530.596118\n\n[83 rows x 2 columns]",
      "text/html": "<div>\n<style scoped>\n    .dataframe tbody tr th:only-of-type {\n        vertical-align: middle;\n    }\n\n    .dataframe tbody tr th {\n        vertical-align: top;\n    }\n\n    .dataframe thead th {\n        text-align: right;\n    }\n</style>\n<table border=\"1\" class=\"dataframe\">\n  <thead>\n    <tr style=\"text-align: right;\">\n      <th></th>\n      <th>cycle</th>\n      <th>q_value</th>\n    </tr>\n  </thead>\n  <tbody>\n    <tr>\n      <th>0</th>\n      <td>0.0</td>\n      <td>724.120891</td>\n    </tr>\n    <tr>\n      <th>1</th>\n      <td>1.0</td>\n      <td>714.535043</td>\n    </tr>\n    <tr>\n      <th>2</th>\n      <td>2.0</td>\n      <td>709.854346</td>\n    </tr>\n    <tr>\n      <th>3</th>\n      <td>3.0</td>\n      <td>707.039349</td>\n    </tr>\n    <tr>\n      <th>4</th>\n      <td>4.0</td>\n      <td>702.234286</td>\n    </tr>\n    <tr>\n      <th>...</th>\n      <td>...</td>\n      <td>...</td>\n    </tr>\n    <tr>\n      <th>78</th>\n      <td>78.0</td>\n      <td>534.715467</td>\n    </tr>\n    <tr>\n      <th>79</th>\n      <td>79.0</td>\n      <td>534.731729</td>\n    </tr>\n    <tr>\n      <th>80</th>\n      <td>80.0</td>\n      <td>533.296215</td>\n    </tr>\n    <tr>\n      <th>81</th>\n      <td>81.0</td>\n      <td>529.457138</td>\n    </tr>\n    <tr>\n      <th>82</th>\n      <td>82.0</td>\n      <td>530.596118</td>\n    </tr>\n  </tbody>\n</table>\n<p>83 rows × 2 columns</p>\n</div>"
     },
     "execution_count": 304,
     "metadata": {},
     "output_type": "execute_result"
    }
   ],
   "source": [
    "df_input = pd.DataFrame(input_data).transpose()\n",
    "df_input = df_input.rename(columns = {0: \"cycle\", 1:\"q_value\"})\n",
    "df_input"
   ],
   "metadata": {
    "collapsed": false
   }
  },
  {
   "cell_type": "code",
   "execution_count": 305,
   "outputs": [
    {
     "data": {
      "text/plain": "    cycle     q_value  interpolate_spline\n0     0.0  724.120891            0.978542\n1     1.0  714.535043            0.965588\n2     2.0  709.854346            0.959263\n3     3.0  707.039349            0.955459\n4     4.0  702.234286            0.948965\n..    ...         ...                 ...\n78   78.0  534.715467            0.722588\n79   79.0  534.731729            0.722610\n80   80.0  533.296215            0.720671\n81   81.0  529.457138            0.715483\n82   82.0  530.596118            0.717022\n\n[83 rows x 3 columns]",
      "text/html": "<div>\n<style scoped>\n    .dataframe tbody tr th:only-of-type {\n        vertical-align: middle;\n    }\n\n    .dataframe tbody tr th {\n        vertical-align: top;\n    }\n\n    .dataframe thead th {\n        text-align: right;\n    }\n</style>\n<table border=\"1\" class=\"dataframe\">\n  <thead>\n    <tr style=\"text-align: right;\">\n      <th></th>\n      <th>cycle</th>\n      <th>q_value</th>\n      <th>interpolate_spline</th>\n    </tr>\n  </thead>\n  <tbody>\n    <tr>\n      <th>0</th>\n      <td>0.0</td>\n      <td>724.120891</td>\n      <td>0.978542</td>\n    </tr>\n    <tr>\n      <th>1</th>\n      <td>1.0</td>\n      <td>714.535043</td>\n      <td>0.965588</td>\n    </tr>\n    <tr>\n      <th>2</th>\n      <td>2.0</td>\n      <td>709.854346</td>\n      <td>0.959263</td>\n    </tr>\n    <tr>\n      <th>3</th>\n      <td>3.0</td>\n      <td>707.039349</td>\n      <td>0.955459</td>\n    </tr>\n    <tr>\n      <th>4</th>\n      <td>4.0</td>\n      <td>702.234286</td>\n      <td>0.948965</td>\n    </tr>\n    <tr>\n      <th>...</th>\n      <td>...</td>\n      <td>...</td>\n      <td>...</td>\n    </tr>\n    <tr>\n      <th>78</th>\n      <td>78.0</td>\n      <td>534.715467</td>\n      <td>0.722588</td>\n    </tr>\n    <tr>\n      <th>79</th>\n      <td>79.0</td>\n      <td>534.731729</td>\n      <td>0.722610</td>\n    </tr>\n    <tr>\n      <th>80</th>\n      <td>80.0</td>\n      <td>533.296215</td>\n      <td>0.720671</td>\n    </tr>\n    <tr>\n      <th>81</th>\n      <td>81.0</td>\n      <td>529.457138</td>\n      <td>0.715483</td>\n    </tr>\n    <tr>\n      <th>82</th>\n      <td>82.0</td>\n      <td>530.596118</td>\n      <td>0.717022</td>\n    </tr>\n  </tbody>\n</table>\n<p>83 rows × 3 columns</p>\n</div>"
     },
     "execution_count": 305,
     "metadata": {},
     "output_type": "execute_result"
    }
   ],
   "source": [
    "df_input['interpolate_spline'] = df_input['q_value'].interpolate(option='spline')\n",
    "df_input['interpolate_spline'] = df_input['interpolate_spline']/740\n",
    "df_input"
   ],
   "metadata": {
    "collapsed": false
   }
  },
  {
   "cell_type": "code",
   "execution_count": 306,
   "outputs": [],
   "source": [
    "df_input = df_input.drop(\"cycle\", axis = 1)\n",
    "df_input = df_input.drop(\"q_value\", axis = 1)"
   ],
   "metadata": {
    "collapsed": false
   }
  },
  {
   "cell_type": "code",
   "execution_count": 307,
   "outputs": [
    {
     "data": {
      "text/plain": "MinMaxScaler()",
      "text/html": "<style>#sk-container-id-17 {color: black;background-color: white;}#sk-container-id-17 pre{padding: 0;}#sk-container-id-17 div.sk-toggleable {background-color: white;}#sk-container-id-17 label.sk-toggleable__label {cursor: pointer;display: block;width: 100%;margin-bottom: 0;padding: 0.3em;box-sizing: border-box;text-align: center;}#sk-container-id-17 label.sk-toggleable__label-arrow:before {content: \"▸\";float: left;margin-right: 0.25em;color: #696969;}#sk-container-id-17 label.sk-toggleable__label-arrow:hover:before {color: black;}#sk-container-id-17 div.sk-estimator:hover label.sk-toggleable__label-arrow:before {color: black;}#sk-container-id-17 div.sk-toggleable__content {max-height: 0;max-width: 0;overflow: hidden;text-align: left;background-color: #f0f8ff;}#sk-container-id-17 div.sk-toggleable__content pre {margin: 0.2em;color: black;border-radius: 0.25em;background-color: #f0f8ff;}#sk-container-id-17 input.sk-toggleable__control:checked~div.sk-toggleable__content {max-height: 200px;max-width: 100%;overflow: auto;}#sk-container-id-17 input.sk-toggleable__control:checked~label.sk-toggleable__label-arrow:before {content: \"▾\";}#sk-container-id-17 div.sk-estimator input.sk-toggleable__control:checked~label.sk-toggleable__label {background-color: #d4ebff;}#sk-container-id-17 div.sk-label input.sk-toggleable__control:checked~label.sk-toggleable__label {background-color: #d4ebff;}#sk-container-id-17 input.sk-hidden--visually {border: 0;clip: rect(1px 1px 1px 1px);clip: rect(1px, 1px, 1px, 1px);height: 1px;margin: -1px;overflow: hidden;padding: 0;position: absolute;width: 1px;}#sk-container-id-17 div.sk-estimator {font-family: monospace;background-color: #f0f8ff;border: 1px dotted black;border-radius: 0.25em;box-sizing: border-box;margin-bottom: 0.5em;}#sk-container-id-17 div.sk-estimator:hover {background-color: #d4ebff;}#sk-container-id-17 div.sk-parallel-item::after {content: \"\";width: 100%;border-bottom: 1px solid gray;flex-grow: 1;}#sk-container-id-17 div.sk-label:hover label.sk-toggleable__label {background-color: #d4ebff;}#sk-container-id-17 div.sk-serial::before {content: \"\";position: absolute;border-left: 1px solid gray;box-sizing: border-box;top: 0;bottom: 0;left: 50%;z-index: 0;}#sk-container-id-17 div.sk-serial {display: flex;flex-direction: column;align-items: center;background-color: white;padding-right: 0.2em;padding-left: 0.2em;position: relative;}#sk-container-id-17 div.sk-item {position: relative;z-index: 1;}#sk-container-id-17 div.sk-parallel {display: flex;align-items: stretch;justify-content: center;background-color: white;position: relative;}#sk-container-id-17 div.sk-item::before, #sk-container-id-17 div.sk-parallel-item::before {content: \"\";position: absolute;border-left: 1px solid gray;box-sizing: border-box;top: 0;bottom: 0;left: 50%;z-index: -1;}#sk-container-id-17 div.sk-parallel-item {display: flex;flex-direction: column;z-index: 1;position: relative;background-color: white;}#sk-container-id-17 div.sk-parallel-item:first-child::after {align-self: flex-end;width: 50%;}#sk-container-id-17 div.sk-parallel-item:last-child::after {align-self: flex-start;width: 50%;}#sk-container-id-17 div.sk-parallel-item:only-child::after {width: 0;}#sk-container-id-17 div.sk-dashed-wrapped {border: 1px dashed gray;margin: 0 0.4em 0.5em 0.4em;box-sizing: border-box;padding-bottom: 0.4em;background-color: white;}#sk-container-id-17 div.sk-label label {font-family: monospace;font-weight: bold;display: inline-block;line-height: 1.2em;}#sk-container-id-17 div.sk-label-container {text-align: center;}#sk-container-id-17 div.sk-container {/* jupyter's `normalize.less` sets `[hidden] { display: none; }` but bootstrap.min.css set `[hidden] { display: none !important; }` so we also need the `!important` here to be able to override the default hidden behavior on the sphinx rendered scikit-learn.org. See: https://github.com/scikit-learn/scikit-learn/issues/21755 */display: inline-block !important;position: relative;}#sk-container-id-17 div.sk-text-repr-fallback {display: none;}</style><div id=\"sk-container-id-17\" class=\"sk-top-container\"><div class=\"sk-text-repr-fallback\"><pre>MinMaxScaler()</pre><b>In a Jupyter environment, please rerun this cell to show the HTML representation or trust the notebook. <br />On GitHub, the HTML representation is unable to render, please try loading this page with nbviewer.org.</b></div><div class=\"sk-container\" hidden><div class=\"sk-item\"><div class=\"sk-estimator sk-toggleable\"><input class=\"sk-toggleable__control sk-hidden--visually\" id=\"sk-estimator-id-17\" type=\"checkbox\" checked><label for=\"sk-estimator-id-17\" class=\"sk-toggleable__label sk-toggleable__label-arrow\">MinMaxScaler</label><div class=\"sk-toggleable__content\"><pre>MinMaxScaler()</pre></div></div></div></div></div>"
     },
     "execution_count": 307,
     "metadata": {},
     "output_type": "execute_result"
    }
   ],
   "source": [
    "sc = MinMaxScaler()\n",
    "label_sc = MinMaxScaler()\n",
    "data = sc.fit_transform(df_input.values)\n",
    "label_sc.fit(df_input.iloc[:,0].values.reshape(-1,1))\n"
   ],
   "metadata": {
    "collapsed": false
   }
  },
  {
   "cell_type": "code",
   "execution_count": 308,
   "outputs": [],
   "source": [
    "lookback = 10\n",
    "inputs = np.zeros((len(data)-lookback,lookback,df_input.shape[1]))\n",
    "labels = np.zeros(len(data)-lookback)\n"
   ],
   "metadata": {
    "collapsed": false
   }
  },
  {
   "cell_type": "code",
   "execution_count": 309,
   "outputs": [],
   "source": [
    "for i in range(lookback, len(data)):\n",
    "    inputs[i-lookback] = data[i-lookback:i]\n",
    "    labels[i-lookback] = data[i,0]\n",
    "inputs = inputs.reshape(-1,lookback,df_input.shape[1])\n",
    "labels = labels.reshape(-1,1)"
   ],
   "metadata": {
    "collapsed": false
   }
  },
  {
   "cell_type": "code",
   "execution_count": 310,
   "outputs": [],
   "source": [
    "test_portion = int(0.1*len(inputs))\n",
    "\n",
    "train_x = inputs[:-test_portion]\n",
    "train_y = labels[:-test_portion]\n",
    "\n",
    "test_x = (inputs[-test_portion:])\n",
    "test_y = (labels[-test_portion:])"
   ],
   "metadata": {
    "collapsed": false
   }
  },
  {
   "cell_type": "code",
   "execution_count": 311,
   "outputs": [
    {
     "data": {
      "text/plain": "(66, 10, 1)"
     },
     "execution_count": 311,
     "metadata": {},
     "output_type": "execute_result"
    }
   ],
   "source": [
    "np.array(train_x).shape"
   ],
   "metadata": {
    "collapsed": false
   }
  },
  {
   "cell_type": "code",
   "execution_count": 312,
   "outputs": [
    {
     "data": {
      "text/plain": "array([[0.77879722],\n       [0.76229649],\n       [0.74626657],\n       [0.72997125],\n       [0.7151503 ],\n       [0.70051339],\n       [0.68587648],\n       [0.66915473],\n       [0.65243297],\n       [0.636061  ],\n       [0.61983087],\n       [0.60439281],\n       [0.58869617],\n       [0.57194899],\n       [0.5583063 ],\n       [0.54412774],\n       [0.52876637],\n       [0.51627526],\n       [0.50285092],\n       [0.48623548],\n       [0.4777046 ],\n       [0.46501054],\n       [0.45127066],\n       [0.44122505],\n       [0.43093271],\n       [0.42064036],\n       [0.41231306],\n       [0.38909513],\n       [0.38362449],\n       [0.37713877],\n       [0.36704533],\n       [0.35354116],\n       [0.34545507],\n       [0.33200836],\n       [0.32091923],\n       [0.30771881],\n       [0.30116634],\n       [0.29135063],\n       [0.28153492],\n       [0.26955285],\n       [0.25757078],\n       [0.24768164],\n       [0.23660062],\n       [0.23265536],\n       [0.22270811],\n       [0.20293613],\n       [0.20124547],\n       [0.19178043],\n       [0.18140999],\n       [0.17242979],\n       [0.16477052],\n       [0.15188692],\n       [0.1517288 ],\n       [0.14272664],\n       [0.12625939],\n       [0.12830091],\n       [0.11885385],\n       [0.11060814],\n       [0.1078897 ],\n       [0.10108681],\n       [0.08084743],\n       [0.08084743],\n       [0.08088727],\n       [0.073015  ],\n       [0.06401148],\n       [0.05248139]])"
     },
     "execution_count": 312,
     "metadata": {},
     "output_type": "execute_result"
    }
   ],
   "source": [
    "train_y"
   ],
   "metadata": {
    "collapsed": false
   }
  },
  {
   "cell_type": "code",
   "execution_count": 313,
   "outputs": [],
   "source": [
    "batch_size = 32\n",
    "train_data = TensorDataset(torch.from_numpy(train_x), torch.from_numpy(train_y))\n",
    "train_loader = DataLoader(train_data, shuffle=True, batch_size=batch_size, drop_last=True)"
   ],
   "metadata": {
    "collapsed": false
   }
  },
  {
   "cell_type": "code",
   "execution_count": 314,
   "outputs": [],
   "source": [
    "device = torch.device(\"cpu\")"
   ],
   "metadata": {
    "collapsed": false
   }
  },
  {
   "cell_type": "code",
   "execution_count": 315,
   "outputs": [],
   "source": [
    "class GRUNet(nn.Module):\n",
    "    def __init__(self, input_dim, hidden_dim, output_dim, n_layers, drop_prob=0.2):\n",
    "        super(GRUNet, self).__init__()\n",
    "        self.hidden_dim = hidden_dim\n",
    "        self.n_layers = n_layers\n",
    "\n",
    "        self.gru = nn.GRU(input_dim, hidden_dim, n_layers, batch_first=True, dropout=drop_prob)\n",
    "        self.fc = nn.Linear(hidden_dim, output_dim)\n",
    "        self.relu = nn.ReLU()\n",
    "\n",
    "    def forward(self, x, h):\n",
    "        out, h = self.gru(x, h)\n",
    "        out = self.fc(self.relu(out[:,-1]))\n",
    "        return out, h\n",
    "\n",
    "    def init_hidden(self, batch_size):\n",
    "        weight = next(self.parameters()).data\n",
    "        hidden = weight.new(self.n_layers, batch_size, self.hidden_dim).zero_().to(device)\n",
    "        return hidden"
   ],
   "metadata": {
    "collapsed": false
   }
  },
  {
   "cell_type": "code",
   "execution_count": 316,
   "outputs": [],
   "source": [
    "def train(train_loader, learn_rate, hidden_dim=256, EPOCHS=100, model_type=\"GRU\"):\n",
    "\n",
    "    # Setting common hyperparameters\n",
    "    input_dim = next(iter(train_loader))[0].shape[2]\n",
    "    output_dim = 1\n",
    "    n_layers = 2\n",
    "    # Instantiating the models\n",
    "\n",
    "    model = GRUNet(input_dim, hidden_dim, output_dim, n_layers)\n",
    "\n",
    "    model.to(device)\n",
    "\n",
    "    # Defining loss function and optimizer\n",
    "    criterion = nn.MSELoss()\n",
    "    optimizer = torch.optim.Adam(model.parameters(), lr=learn_rate)\n",
    "\n",
    "    model.train()\n",
    "    print(\"Starting Training of {} model\".format(model_type))\n",
    "    epoch_times = []\n",
    "    # Start training loop\n",
    "    for epoch in range(1,EPOCHS+1):\n",
    "        start_time = time.process_time()\n",
    "        h = model.init_hidden(batch_size)\n",
    "        avg_loss = 0.\n",
    "        counter = 0\n",
    "        for x, label in train_loader:\n",
    "            counter += 1\n",
    "            h = h.data\n",
    "            model.zero_grad()\n",
    "\n",
    "            out, h = model(x.to(device).float(), h)\n",
    "            loss = criterion(out, label.to(device).float())\n",
    "            loss.backward()\n",
    "            optimizer.step()\n",
    "            avg_loss += loss.item()\n",
    "            if counter%200 == 0:\n",
    "                print(\"Epoch {}......Step: {}/{}....... Average Loss for Epoch: {}\".format(epoch, counter, len(train_loader), avg_loss/counter))\n",
    "        current_time = time.process_time()\n",
    "        print(\"Epoch {}/{} Done, Total Loss: {}\".format(epoch, EPOCHS, avg_loss/len(train_loader)))\n",
    "        print(\"Total Time Elapsed: {} seconds\".format(str(current_time-start_time)))\n",
    "        epoch_times.append(current_time-start_time)\n",
    "    print(\"Total Training Time: {} seconds\".format(str(sum(epoch_times))))\n",
    "    return model\n",
    "\n",
    "def evaluate(model, test_x, test_y, label_scalers):\n",
    "    model.eval()\n",
    "    outputs = []\n",
    "    targets = []\n",
    "    start_time = time.process_time()\n",
    "\n",
    "    inp = torch.from_numpy(np.array(test_x))\n",
    "    labs = torch.from_numpy(np.array(test_y))\n",
    "    h = model.init_hidden(inp.shape[0])\n",
    "    out, h = model(inp.to(device).float(), h)\n",
    "    outputs.append(label_sc.inverse_transform(out.cpu().detach().numpy()).reshape(-1))\n",
    "    targets.append(label_sc.inverse_transform(labs.numpy()).reshape(-1))\n",
    "\n",
    "    print(\"Evaluation Time: {}\".format(str(time.process_time()-start_time)))\n",
    "    sMAPE = 0\n",
    "    for i in range(len(outputs)):\n",
    "        sMAPE += np.mean(abs(outputs[i]-targets[i])/(targets[i]+outputs[i])/2)/len(outputs)\n",
    "    print(\"sMAPE: {}%\".format(sMAPE*100))\n",
    "    return outputs, targets, sMAPE"
   ],
   "metadata": {
    "collapsed": false
   }
  },
  {
   "cell_type": "code",
   "execution_count": 317,
   "outputs": [
    {
     "name": "stdout",
     "output_type": "stream",
     "text": [
      "Starting Training of GRU model\n",
      "Epoch 1/100 Done, Total Loss: 0.11967908591032028\n",
      "Total Time Elapsed: 0.28125 seconds\n",
      "Epoch 2/100 Done, Total Loss: 0.05027048848569393\n",
      "Total Time Elapsed: 0.390625 seconds\n",
      "Epoch 3/100 Done, Total Loss: 0.04202180355787277\n",
      "Total Time Elapsed: 0.75 seconds\n",
      "Epoch 4/100 Done, Total Loss: 0.032484292052686214\n",
      "Total Time Elapsed: 0.59375 seconds\n",
      "Epoch 5/100 Done, Total Loss: 0.026774060912430286\n",
      "Total Time Elapsed: 0.296875 seconds\n",
      "Epoch 6/100 Done, Total Loss: 0.02716145943850279\n",
      "Total Time Elapsed: 0.296875 seconds\n",
      "Epoch 7/100 Done, Total Loss: 0.01683649607002735\n",
      "Total Time Elapsed: 0.296875 seconds\n",
      "Epoch 8/100 Done, Total Loss: 0.01554442336782813\n",
      "Total Time Elapsed: 0.296875 seconds\n",
      "Epoch 9/100 Done, Total Loss: 0.006202590186148882\n",
      "Total Time Elapsed: 0.140625 seconds\n",
      "Epoch 10/100 Done, Total Loss: 0.004195592482574284\n",
      "Total Time Elapsed: 0.25 seconds\n",
      "Epoch 11/100 Done, Total Loss: 0.0016617576184216887\n",
      "Total Time Elapsed: 0.265625 seconds\n",
      "Epoch 12/100 Done, Total Loss: 0.0037281085969880223\n",
      "Total Time Elapsed: 0.234375 seconds\n",
      "Epoch 13/100 Done, Total Loss: 0.003978176740929484\n",
      "Total Time Elapsed: 0.234375 seconds\n",
      "Epoch 14/100 Done, Total Loss: 0.0030075599206611514\n",
      "Total Time Elapsed: 0.328125 seconds\n",
      "Epoch 15/100 Done, Total Loss: 0.001799324352759868\n",
      "Total Time Elapsed: 0.328125 seconds\n",
      "Epoch 16/100 Done, Total Loss: 0.0012059019936714321\n",
      "Total Time Elapsed: 0.25 seconds\n",
      "Epoch 17/100 Done, Total Loss: 0.002247958240332082\n",
      "Total Time Elapsed: 0.296875 seconds\n",
      "Epoch 18/100 Done, Total Loss: 0.0021494622342288494\n",
      "Total Time Elapsed: 0.40625 seconds\n",
      "Epoch 19/100 Done, Total Loss: 0.0015795009676367044\n",
      "Total Time Elapsed: 0.40625 seconds\n",
      "Epoch 20/100 Done, Total Loss: 0.0018577834707684815\n",
      "Total Time Elapsed: 0.375 seconds\n",
      "Epoch 21/100 Done, Total Loss: 0.0007909569540061057\n",
      "Total Time Elapsed: 0.390625 seconds\n",
      "Epoch 22/100 Done, Total Loss: 0.0011358152842149138\n",
      "Total Time Elapsed: 0.421875 seconds\n",
      "Epoch 23/100 Done, Total Loss: 0.00036299375642556697\n",
      "Total Time Elapsed: 0.265625 seconds\n",
      "Epoch 24/100 Done, Total Loss: 0.0008821759547572583\n",
      "Total Time Elapsed: 0.328125 seconds\n",
      "Epoch 25/100 Done, Total Loss: 0.0003618600749177858\n",
      "Total Time Elapsed: 0.296875 seconds\n",
      "Epoch 26/100 Done, Total Loss: 0.0009936327987816185\n",
      "Total Time Elapsed: 0.34375 seconds\n",
      "Epoch 27/100 Done, Total Loss: 0.0003440779400989413\n",
      "Total Time Elapsed: 0.25 seconds\n",
      "Epoch 28/100 Done, Total Loss: 0.0005804426036775112\n",
      "Total Time Elapsed: 0.328125 seconds\n",
      "Epoch 29/100 Done, Total Loss: 0.00023907406284706667\n",
      "Total Time Elapsed: 0.359375 seconds\n",
      "Epoch 30/100 Done, Total Loss: 0.0003806113454629667\n",
      "Total Time Elapsed: 0.4375 seconds\n",
      "Epoch 31/100 Done, Total Loss: 0.00018293629545951262\n",
      "Total Time Elapsed: 0.484375 seconds\n",
      "Epoch 32/100 Done, Total Loss: 0.0002163904719054699\n",
      "Total Time Elapsed: 0.5 seconds\n",
      "Epoch 33/100 Done, Total Loss: 0.00021625404042424634\n",
      "Total Time Elapsed: 0.46875 seconds\n",
      "Epoch 34/100 Done, Total Loss: 0.00019824537230306305\n",
      "Total Time Elapsed: 0.484375 seconds\n",
      "Epoch 35/100 Done, Total Loss: 0.00010325691982870921\n",
      "Total Time Elapsed: 0.25 seconds\n",
      "Epoch 36/100 Done, Total Loss: 0.00010669220864656381\n",
      "Total Time Elapsed: 0.15625 seconds\n",
      "Epoch 37/100 Done, Total Loss: 7.557941717095673e-05\n",
      "Total Time Elapsed: 0.265625 seconds\n",
      "Epoch 38/100 Done, Total Loss: 0.0001469025810365565\n",
      "Total Time Elapsed: 0.3125 seconds\n",
      "Epoch 39/100 Done, Total Loss: 0.00013779298387817107\n",
      "Total Time Elapsed: 0.390625 seconds\n",
      "Epoch 40/100 Done, Total Loss: 8.915603029890917e-05\n",
      "Total Time Elapsed: 0.28125 seconds\n",
      "Epoch 41/100 Done, Total Loss: 0.00013125195255270228\n",
      "Total Time Elapsed: 0.359375 seconds\n",
      "Epoch 42/100 Done, Total Loss: 6.188062616274692e-05\n",
      "Total Time Elapsed: 0.34375 seconds\n",
      "Epoch 43/100 Done, Total Loss: 9.70373657764867e-05\n",
      "Total Time Elapsed: 0.25 seconds\n",
      "Epoch 44/100 Done, Total Loss: 6.800076880608685e-05\n",
      "Total Time Elapsed: 0.34375 seconds\n",
      "Epoch 45/100 Done, Total Loss: 8.87693531694822e-05\n",
      "Total Time Elapsed: 0.296875 seconds\n",
      "Epoch 46/100 Done, Total Loss: 7.318656935240142e-05\n",
      "Total Time Elapsed: 0.34375 seconds\n",
      "Epoch 47/100 Done, Total Loss: 0.00012262676318641752\n",
      "Total Time Elapsed: 0.21875 seconds\n",
      "Epoch 48/100 Done, Total Loss: 9.279598452849314e-05\n",
      "Total Time Elapsed: 0.328125 seconds\n",
      "Epoch 49/100 Done, Total Loss: 6.702266546199098e-05\n",
      "Total Time Elapsed: 0.265625 seconds\n",
      "Epoch 50/100 Done, Total Loss: 7.828283560229465e-05\n",
      "Total Time Elapsed: 0.359375 seconds\n",
      "Epoch 51/100 Done, Total Loss: 6.895245678606443e-05\n",
      "Total Time Elapsed: 0.296875 seconds\n",
      "Epoch 52/100 Done, Total Loss: 8.058129424171057e-05\n",
      "Total Time Elapsed: 0.34375 seconds\n",
      "Epoch 53/100 Done, Total Loss: 9.4060229457682e-05\n",
      "Total Time Elapsed: 0.28125 seconds\n",
      "Epoch 54/100 Done, Total Loss: 0.00010330837903893553\n",
      "Total Time Elapsed: 0.328125 seconds\n",
      "Epoch 55/100 Done, Total Loss: 6.956138895475306e-05\n",
      "Total Time Elapsed: 0.21875 seconds\n",
      "Epoch 56/100 Done, Total Loss: 0.00013343485625227913\n",
      "Total Time Elapsed: 0.21875 seconds\n",
      "Epoch 57/100 Done, Total Loss: 8.663720655022189e-05\n",
      "Total Time Elapsed: 0.515625 seconds\n",
      "Epoch 58/100 Done, Total Loss: 0.00010865498552448116\n",
      "Total Time Elapsed: 0.421875 seconds\n",
      "Epoch 59/100 Done, Total Loss: 0.0001032186955853831\n",
      "Total Time Elapsed: 0.28125 seconds\n",
      "Epoch 60/100 Done, Total Loss: 0.00011409808212192729\n",
      "Total Time Elapsed: 0.234375 seconds\n",
      "Epoch 61/100 Done, Total Loss: 8.047734445426613e-05\n",
      "Total Time Elapsed: 0.234375 seconds\n",
      "Epoch 62/100 Done, Total Loss: 8.437272845185362e-05\n",
      "Total Time Elapsed: 0.28125 seconds\n",
      "Epoch 63/100 Done, Total Loss: 8.780830467003398e-05\n",
      "Total Time Elapsed: 0.34375 seconds\n",
      "Epoch 64/100 Done, Total Loss: 7.521537190768868e-05\n",
      "Total Time Elapsed: 0.25 seconds\n",
      "Epoch 65/100 Done, Total Loss: 8.273996718344279e-05\n",
      "Total Time Elapsed: 0.28125 seconds\n",
      "Epoch 66/100 Done, Total Loss: 9.085135025088675e-05\n",
      "Total Time Elapsed: 0.234375 seconds\n",
      "Epoch 67/100 Done, Total Loss: 7.805081622791477e-05\n",
      "Total Time Elapsed: 0.28125 seconds\n",
      "Epoch 68/100 Done, Total Loss: 0.00010371120515628718\n",
      "Total Time Elapsed: 0.25 seconds\n",
      "Epoch 69/100 Done, Total Loss: 6.782562923035584e-05\n",
      "Total Time Elapsed: 0.265625 seconds\n",
      "Epoch 70/100 Done, Total Loss: 0.00015411292406497523\n",
      "Total Time Elapsed: 0.34375 seconds\n",
      "Epoch 71/100 Done, Total Loss: 8.187806452042423e-05\n",
      "Total Time Elapsed: 0.1875 seconds\n",
      "Epoch 72/100 Done, Total Loss: 0.00011694175555021502\n",
      "Total Time Elapsed: 0.28125 seconds\n",
      "Epoch 73/100 Done, Total Loss: 8.165614599420223e-05\n",
      "Total Time Elapsed: 0.28125 seconds\n",
      "Epoch 74/100 Done, Total Loss: 7.306366023840383e-05\n",
      "Total Time Elapsed: 0.28125 seconds\n",
      "Epoch 75/100 Done, Total Loss: 5.968375080556143e-05\n",
      "Total Time Elapsed: 0.3125 seconds\n",
      "Epoch 76/100 Done, Total Loss: 0.00010898915206780657\n",
      "Total Time Elapsed: 0.296875 seconds\n",
      "Epoch 77/100 Done, Total Loss: 0.00010576627028058283\n",
      "Total Time Elapsed: 0.171875 seconds\n",
      "Epoch 78/100 Done, Total Loss: 9.914610927808098e-05\n",
      "Total Time Elapsed: 0.296875 seconds\n",
      "Epoch 79/100 Done, Total Loss: 6.194266461534426e-05\n",
      "Total Time Elapsed: 0.328125 seconds\n",
      "Epoch 80/100 Done, Total Loss: 8.900342072593048e-05\n",
      "Total Time Elapsed: 0.328125 seconds\n",
      "Epoch 81/100 Done, Total Loss: 8.441900718025863e-05\n",
      "Total Time Elapsed: 0.1875 seconds\n",
      "Epoch 82/100 Done, Total Loss: 0.00010240828851237893\n",
      "Total Time Elapsed: 0.234375 seconds\n",
      "Epoch 83/100 Done, Total Loss: 0.00010246801684843376\n",
      "Total Time Elapsed: 0.3125 seconds\n",
      "Epoch 84/100 Done, Total Loss: 0.00013709439008380286\n",
      "Total Time Elapsed: 0.265625 seconds\n",
      "Epoch 85/100 Done, Total Loss: 0.00011807720875367522\n",
      "Total Time Elapsed: 0.359375 seconds\n",
      "Epoch 86/100 Done, Total Loss: 8.212370448745787e-05\n",
      "Total Time Elapsed: 0.25 seconds\n",
      "Epoch 87/100 Done, Total Loss: 8.713695569895208e-05\n",
      "Total Time Elapsed: 0.234375 seconds\n",
      "Epoch 88/100 Done, Total Loss: 9.817999307415448e-05\n",
      "Total Time Elapsed: 0.203125 seconds\n",
      "Epoch 89/100 Done, Total Loss: 7.513344644394238e-05\n",
      "Total Time Elapsed: 0.203125 seconds\n",
      "Epoch 90/100 Done, Total Loss: 6.718625081703067e-05\n",
      "Total Time Elapsed: 0.328125 seconds\n",
      "Epoch 91/100 Done, Total Loss: 7.435184306814335e-05\n",
      "Total Time Elapsed: 0.171875 seconds\n",
      "Epoch 92/100 Done, Total Loss: 7.197040758910589e-05\n",
      "Total Time Elapsed: 0.28125 seconds\n",
      "Epoch 93/100 Done, Total Loss: 9.924525511451066e-05\n",
      "Total Time Elapsed: 0.1875 seconds\n",
      "Epoch 94/100 Done, Total Loss: 7.482172259187791e-05\n",
      "Total Time Elapsed: 0.328125 seconds\n",
      "Epoch 95/100 Done, Total Loss: 8.81696651049424e-05\n",
      "Total Time Elapsed: 0.21875 seconds\n",
      "Epoch 96/100 Done, Total Loss: 8.446379433735274e-05\n",
      "Total Time Elapsed: 0.3125 seconds\n",
      "Epoch 97/100 Done, Total Loss: 9.700878945295699e-05\n",
      "Total Time Elapsed: 0.203125 seconds\n",
      "Epoch 98/100 Done, Total Loss: 8.2409711467335e-05\n",
      "Total Time Elapsed: 0.328125 seconds\n",
      "Epoch 99/100 Done, Total Loss: 9.438804409001023e-05\n",
      "Total Time Elapsed: 0.234375 seconds\n",
      "Epoch 100/100 Done, Total Loss: 9.286862041335553e-05\n",
      "Total Time Elapsed: 0.265625 seconds\n",
      "Total Training Time: 30.625 seconds\n"
     ]
    }
   ],
   "source": [
    "lr = 0.001\n",
    "gru_model = train(train_loader, lr, model_type=\"GRU\")"
   ],
   "metadata": {
    "collapsed": false
   }
  },
  {
   "cell_type": "code",
   "execution_count": 318,
   "outputs": [
    {
     "name": "stdout",
     "output_type": "stream",
     "text": [
      "Evaluation Time: 0.015625\n",
      "sMAPE: 0.20187800195214473%\n"
     ]
    }
   ],
   "source": [
    "gru_outputs, targets, gru_sMAPE = evaluate(gru_model, test_x, test_y, label_sc)"
   ],
   "metadata": {
    "collapsed": false
   }
  },
  {
   "cell_type": "code",
   "execution_count": 319,
   "outputs": [
    {
     "data": {
      "text/plain": "[array([0.7309308 , 0.72982466, 0.7287518 , 0.727609  , 0.72656363,\n        0.72561055, 0.7245081 ], dtype=float32)]"
     },
     "execution_count": 319,
     "metadata": {},
     "output_type": "execute_result"
    }
   ],
   "source": [
    "gru_outputs"
   ],
   "metadata": {
    "collapsed": false
   }
  },
  {
   "cell_type": "code",
   "execution_count": 320,
   "outputs": [
    {
     "data": {
      "text/plain": "<matplotlib.legend.Legend at 0x185850a6d10>"
     },
     "execution_count": 320,
     "metadata": {},
     "output_type": "execute_result"
    },
    {
     "data": {
      "text/plain": "<Figure size 1400x1000 with 1 Axes>",
      "image/png": "[encoded data removed]"
     },
     "metadata": {},
     "output_type": "display_data"
    }
   ],
   "source": [
    "plt.figure(figsize=(14,10))\n",
    "plt.subplot(2,2,1)\n",
    "plt.plot(gru_outputs[0][-100:], \"-o\", color=\"g\", label=\"Predicted\")\n",
    "plt.plot(targets[0][-100:], color=\"b\", label=\"Actual\")\n",
    "plt.ylabel('q')\n",
    "plt.legend()"
   ],
   "metadata": {
    "collapsed": false
   }
  },
  {
   "cell_type": "code",
   "execution_count": 320,
   "outputs": [],
   "source": [],
   "metadata": {
    "collapsed": false
   }
  }
 ],
 "metadata": {
  "kernelspec": {
   "display_name": "venv",
   "language": "python",
   "name": "python3"
  },
  "language_info": {
   "codemirror_mode": {
    "name": "ipython",
    "version": 3
   },
   "file_extension": ".py",
   "mimetype": "text/x-python",
   "name": "python",
   "nbconvert_exporter": "python",
   "pygments_lexer": "ipython3",
   "version": "3.10.8"
  },
  "vscode": {
   "interpreter": {
    "hash": "abb986b297a1e39e4a9784cac1041b65609e2eefd57e07e1d90a430925bc2fc5"
   }
  }
 },
 "nbformat": 4,
 "nbformat_minor": 0
}
