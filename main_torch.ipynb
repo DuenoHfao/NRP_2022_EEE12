{
 "cells": [
  {
   "cell_type": "code",
   "execution_count": 440,
   "metadata": {
    "collapsed": false
   },
   "outputs": [],
   "source": [
    "import scipy.io\n",
    "\n",
    "import os\n",
    "import time\n",
    "\n",
    "import torch\n",
    "import torch.nn as nn\n",
    "from torch.utils.data import TensorDataset, DataLoader\n",
    "\n",
    "from tqdm import tqdm_notebook\n",
    "from sklearn.preprocessing import MinMaxScaler\n",
    "\n",
    "import pandas as pd\n",
    "import numpy as np\n",
    "import matplotlib.pyplot as plt\n",
    "from sklearn.preprocessing import MinMaxScaler, StandardScaler\n",
    "import warnings\n",
    "from scipy import stats"
   ]
  },
  {
   "cell_type": "code",
   "execution_count": 441,
   "metadata": {
    "collapsed": false
   },
   "outputs": [],
   "source": [
    "mat = scipy.io.loadmat('Oxford_Battery_Degradation_Dataset_1.mat')"
   ]
  },
  {
   "cell_type": "code",
   "execution_count": 442,
   "metadata": {
    "collapsed": false
   },
   "outputs": [
    {
     "data": {
      "text/plain": "dict_keys(['__header__', '__version__', '__globals__', 'Cell1', 'Cell2', 'Cell3', 'Cell4', 'Cell5', 'Cell6', 'Cell7', 'Cell8'])"
     },
     "execution_count": 442,
     "metadata": {},
     "output_type": "execute_result"
    }
   ],
   "source": [
    "mat.keys()"
   ]
  },
  {
   "cell_type": "code",
   "execution_count": 443,
   "outputs": [],
   "source": [
    "input_data = [\n",
    "    [[], []],\n",
    "    [[], []],\n",
    "    [[], []],\n",
    "    [[], []]\n",
    "]"
   ],
   "metadata": {
    "collapsed": false
   }
  },
  {
   "cell_type": "code",
   "execution_count": 444,
   "outputs": [
    {
     "name": "stdout",
     "output_type": "stream",
     "text": [
      "724.1208914093187\n",
      "714.5350426825697\n",
      "709.8543464961379\n",
      "707.0393485194566\n",
      "702.2342863457235\n",
      "698.8440013150872\n",
      "695.4850715278354\n",
      "691.6932258285015\n",
      "687.6300422440017\n",
      "684.2488065128581\n",
      "681.0607272448832\n",
      "677.8486336050008\n",
      "674.7281887527703\n",
      "671.556081370731\n",
      "668.6709791990864\n",
      "nan\n",
      "662.9724287937147\n",
      "nan\n",
      "656.4621886431951\n",
      "653.2751603988444\n",
      "650.1157422984008\n",
      "647.1105116933119\n",
      "644.0549444561768\n",
      "640.7948747304991\n",
      "638.1391374235501\n",
      "635.3790871886936\n",
      "632.3887851445143\n",
      "629.9572173218418\n",
      "627.3439847566834\n",
      "624.1095617381898\n",
      "622.448908879052\n",
      "619.9778349196439\n",
      "617.3031788485108\n",
      "615.3476618618469\n",
      "nan\n",
      "611.340570310974\n",
      "609.7195455723199\n",
      "605.1998563440754\n",
      "604.1349210491537\n",
      "602.8723865926853\n",
      "600.9075598059693\n",
      "598.2787878589917\n",
      "596.7047192299974\n",
      "594.08713143121\n",
      "591.9284795739374\n",
      "589.3588371850756\n",
      "588.0833074787903\n",
      "nan\n",
      "584.2617834340922\n",
      "nan\n",
      "579.5968326875441\n",
      "577.6717759357741\n",
      "575.5147033984103\n",
      "574.7467034891866\n",
      "572.8103356272312\n",
      "568.9614464139573\n",
      "568.632337365943\n",
      "566.7898372362026\n",
      "564.7710880962863\n",
      "563.0229675191888\n",
      "561.5319859533353\n",
      "559.0240164641148\n",
      "558.9932350188666\n",
      "557.2408422441746\n",
      "554.0352644300469\n",
      "554.4326746213887\n",
      "552.5936740321791\n",
      "550.9885335174934\n",
      "550.4593525596042\n",
      "549.1350762103983\n",
      "545.1952021221653\n",
      "545.1952021221653\n",
      "545.2029575675828\n",
      "543.6705120329285\n",
      "541.9178534255642\n",
      "539.6733627491049\n",
      "538.7682346467591\n",
      "537.5784986630249\n",
      "534.7154670857103\n",
      "534.7317288957756\n",
      "533.2962153664076\n",
      "529.4571383120897\n",
      "530.5961183990717\n"
     ]
    }
   ],
   "source": [
    "for i in range(0, 83):\n",
    "    if (i < 10):\n",
    "        if (i == 0):\n",
    "            temp = \"cyc0000\"\n",
    "        else:\n",
    "            temp = \"cyc0\" + str(i) + \"00\"\n",
    "    else:\n",
    "        temp = \"cyc\" + str(i) + \"00\"\n",
    "    try:\n",
    "        curr = mat[\"Cell1\"][0][temp][0][0][\"C1ch\"][0][0]['q'][0][-1][0]\n",
    "    except ValueError:\n",
    "        curr = float(\"NaN\")\n",
    "    input_data[0][0].append(i)\n",
    "    input_data[0][1].append(curr)\n",
    "    print(curr)"
   ],
   "metadata": {
    "collapsed": false
   }
  },
  {
   "cell_type": "code",
   "execution_count": 445,
   "outputs": [
    {
     "name": "stdout",
     "output_type": "stream",
     "text": [
      "718.741297925537\n",
      "709.5681071291199\n",
      "704.9058163403389\n",
      "702.3456149198066\n",
      "697.1368473715753\n",
      "693.5280529826321\n",
      "690.2526227546354\n",
      "687.9312178554381\n",
      "683.9562011113857\n",
      "681.1490369562412\n",
      "678.4389754590828\n",
      "675.6869704751757\n",
      "672.6909481645915\n",
      "669.6118516598985\n",
      "666.6693579710898\n",
      "nan\n",
      "661.0438750956963\n",
      "nan\n",
      "654.8732928540276\n",
      "651.5763009192572\n",
      "648.0620407410753\n",
      "645.0273202361824\n",
      "641.9561587872146\n",
      "639.1817874060634\n",
      "636.146987355567\n",
      "633.5869444285584\n",
      "630.2719502065734\n",
      "628.4404882446424\n",
      "625.6947332317742\n",
      "621.4573128423089\n",
      "620.0355903464084\n",
      "617.0226657589787\n",
      "613.529064392273\n",
      "611.8853332623833\n",
      "nan\n",
      "606.7991489488695\n",
      "606.1075187611355\n",
      "602.0501712794936\n",
      "599.804125769962\n",
      "599.062711397054\n",
      "596.8222385493266\n",
      "593.1072435700955\n",
      "591.9062524962668\n",
      "589.1572257318285\n",
      "586.90617990074\n",
      "583.6450163602024\n",
      "582.6071782655945\n",
      "nan\n",
      "578.5371559859686\n",
      "nan\n",
      "540.1406011361898\n",
      "544.1508260616624\n",
      "543.2743302246569\n",
      "546.5392956914469\n",
      "546.5661247950405\n",
      "541.5460386269837\n",
      "544.325896470876\n",
      "543.3293544748332\n",
      "541.0781344591743\n",
      "539.873856048689\n",
      "538.0126744202508\n",
      "531.7941460643989\n",
      "535.3074075393235\n",
      "533.4260004740635\n",
      "526.255781204539\n",
      "530.2883048969014\n",
      "528.0916532404514\n",
      "529.1747535864461\n",
      "529.2633184395921\n",
      "527.0825452443813\n",
      "519.7201222548049\n",
      "520.7728065731033\n",
      "520.644083452423\n",
      "520.4910665838386\n",
      "475.4615621634386\n",
      "524.5923459845818\n",
      "520.708630040836\n",
      "505.7172067723219\n"
     ]
    }
   ],
   "source": [
    "for i in range(0, 78):\n",
    "    if (i < 10):\n",
    "        if (i == 0):\n",
    "            temp = \"cyc0000\"\n",
    "        else:\n",
    "            temp = \"cyc0\" + str(i) + \"00\"\n",
    "    else:\n",
    "        temp = \"cyc\" + str(i) + \"00\"\n",
    "    try:\n",
    "        curr = mat[\"Cell2\"][0][temp][0][0][\"C1ch\"][0][0]['q'][0][-1][0]\n",
    "    except ValueError:\n",
    "        curr = float(\"NaN\")\n",
    "    input_data[1][0].append(i)\n",
    "    input_data[1][1].append(curr)\n",
    "    print(curr)"
   ],
   "metadata": {
    "collapsed": false
   }
  },
  {
   "cell_type": "code",
   "execution_count": 446,
   "outputs": [
    {
     "name": "stdout",
     "output_type": "stream",
     "text": [
      "718.7631395299276\n",
      "709.773752809004\n",
      "705.5003496343891\n",
      "703.179715527476\n",
      "698.6793038556247\n",
      "695.5755666377021\n",
      "692.6804139407959\n",
      "690.9952733899265\n",
      "687.6160393374396\n",
      "685.1340395459562\n",
      "682.7033126399366\n",
      "680.3608812850377\n",
      "677.9297546952447\n",
      "675.3622352245551\n",
      "672.7948973098858\n",
      "nan\n",
      "667.860750732734\n",
      "nan\n",
      "661.9469030268589\n",
      "659.0533480837539\n",
      "656.1259535114813\n",
      "653.263523338667\n",
      "650.3072266254272\n",
      "647.5960743479478\n",
      "645.107360001024\n",
      "642.2626477255825\n",
      "639.4436417116023\n",
      "637.2262217119649\n",
      "634.4764265170153\n",
      "631.2939332858479\n",
      "629.3235018324585\n",
      "626.7830689711067\n",
      "623.7088201648356\n",
      "nan\n",
      "nan\n",
      "617.4528684451836\n",
      "615.911979257036\n",
      "612.2898770856086\n",
      "611.157118682434\n",
      "609.5205118533969\n",
      "607.1033436763611\n",
      "604.5793552813755\n",
      "603.0115005746461\n",
      "600.4328458881564\n",
      "598.2719965298292\n",
      "595.341309710907\n",
      "593.3874599997288\n",
      "nan\n",
      "589.3170987658963\n",
      "nan\n",
      "584.5440061324972\n",
      "582.3691352973802\n",
      "580.2034366532152\n",
      "579.2706408033243\n",
      "577.1580542297907\n",
      "574.2643660177985\n",
      "573.836394326867\n",
      "571.993239701155\n",
      "569.9563823112692\n",
      "567.7289925591532\n",
      "565.7341881581184\n",
      "562.8485649205356\n",
      "562.1106181763713\n",
      "560.2828756706916\n",
      "557.7023096802334\n",
      "557.3780737668898\n",
      "555.605335234826\n",
      "556.1283910736762\n",
      "555.6865693176168\n",
      "553.9327553975932\n",
      "551.0498874523112\n",
      "551.1722640103184\n",
      "549.4368309830695\n",
      "547.6232288894925\n",
      "545.7595240120578\n",
      "544.3290846505059\n",
      "542.6947330667623\n",
      "540.5556469268324\n",
      "539.8710663800355\n",
      "538.352942506507\n",
      "536.0941143807577\n",
      "535.9892378836468\n"
     ]
    }
   ],
   "source": [
    "for i in range(0, 82):\n",
    "    if (i < 10):\n",
    "        if (i == 0):\n",
    "            temp = \"cyc0000\"\n",
    "        else:\n",
    "            temp = \"cyc0\" + str(i) + \"00\"\n",
    "    else:\n",
    "        temp = \"cyc\" + str(i) + \"00\"\n",
    "    try:\n",
    "        curr = mat[\"Cell3\"][0][temp][0][0][\"C1ch\"][0][0]['q'][0][-1][0]\n",
    "    except ValueError:\n",
    "        curr = float(\"NaN\")\n",
    "    input_data[2][0].append(i)\n",
    "    input_data[2][1].append(curr)\n",
    "    print(curr)"
   ],
   "metadata": {
    "collapsed": false
   }
  },
  {
   "cell_type": "code",
   "execution_count": 447,
   "outputs": [
    {
     "name": "stdout",
     "output_type": "stream",
     "text": [
      "721.1164843827853\n",
      "712.0679318298407\n",
      "706.9871122118395\n",
      "703.2141196563043\n",
      "697.5632033832364\n",
      "693.4313661446499\n",
      "689.3232259051073\n",
      "684.6806726656562\n",
      "680.5215711629673\n",
      "676.9138722703382\n",
      "673.1332688880785\n",
      "669.254472952847\n",
      "664.8751990971984\n",
      "660.7292772686156\n",
      "656.5154255277236\n",
      "nan\n",
      "649.0225222257487\n",
      "nan\n",
      "640.7433987497865\n",
      "636.9393948052233\n",
      "632.8373748397114\n",
      "629.3621179469435\n",
      "625.420070599918\n",
      "622.5492503774007\n",
      "619.9996876792127\n",
      "617.2418496067268\n",
      "612.966908147973\n",
      "610.5559912618273\n",
      "608.2378642040067\n",
      "604.1494928159519\n",
      "602.7136125503912\n",
      "599.4423191019187\n",
      "596.2102732655708\n",
      "594.6531594138828\n",
      "nan\n",
      "589.2581597436352\n",
      "587.3144895586956\n",
      "582.3196168509047\n",
      "580.8840633218181\n",
      "580.0492210948012\n",
      "578.2639342326898\n",
      "574.0774628077731\n",
      "572.8297306677382\n",
      "570.1357001743164\n",
      "568.1299646968248\n",
      "564.5128975512729\n",
      "563.6108884776035\n",
      "nan\n",
      "559.8291404311693\n",
      "nan\n",
      "557.4281094756539\n",
      "555.5754281423713\n"
     ]
    }
   ],
   "source": [
    "for i in range(0, 52):\n",
    "    if (i < 10):\n",
    "        if (i == 0):\n",
    "            temp = \"cyc0000\"\n",
    "        else:\n",
    "            temp = \"cyc0\" + str(i) + \"00\"\n",
    "    else:\n",
    "        temp = \"cyc\" + str(i) + \"00\"\n",
    "    try:\n",
    "        curr = mat[\"Cell4\"][0][temp][0][0][\"C1ch\"][0][0]['q'][0][-1][0]\n",
    "    except ValueError:\n",
    "        curr = float(\"NaN\")\n",
    "    input_data[3][0].append(i)\n",
    "    input_data[3][1].append(curr)\n",
    "    print(curr)"
   ],
   "metadata": {
    "collapsed": false
   }
  },
  {
   "cell_type": "code",
   "execution_count": 448,
   "outputs": [],
   "source": [
    "label_scalers = {}\n",
    "\n",
    "train_x = []\n",
    "test_x = []\n",
    "test_y = []"
   ],
   "metadata": {
    "collapsed": false
   }
  },
  {
   "cell_type": "code",
   "execution_count": 449,
   "outputs": [],
   "source": [
    "for i in range(0, 4):\n",
    "    df_input = pd.DataFrame(input_data[i]).transpose()\n",
    "    df_input = df_input.rename(columns={0: \"cycle\", 1: \"q_value\"})\n",
    "    df_input['interpolate_spline'] = df_input['q_value'].interpolate(option='spline')\n",
    "    df_input['soh'] = df_input['interpolate_spline'] / 740\n",
    "\n",
    "    df_input = df_input.drop(\"cycle\", axis=1)\n",
    "    df_input = df_input.drop(\"q_value\", axis=1)\n",
    "    df_input = df_input.drop(\"interpolate_spline\", axis=1)\n",
    "\n",
    "    sc = MinMaxScaler()\n",
    "    label_sc = MinMaxScaler()\n",
    "    data = sc.fit_transform(df_input.values)\n",
    "    label_sc.fit(df_input.iloc[:, 0].values.reshape(-1, 1))\n",
    "\n",
    "    lookback = 10\n",
    "    inputs = np.zeros((len(data) - lookback, lookback, df_input.shape[1]))\n",
    "    labels = np.zeros(len(data) - lookback)\n",
    "\n",
    "    for i in range(lookback, len(data)):\n",
    "        inputs[i - lookback] = data[i - lookback:i]\n",
    "        labels[i - lookback] = data[i, 0]\n",
    "    inputs = inputs.reshape(-1, lookback, df_input.shape[1])\n",
    "    labels = labels.reshape(-1, 1)\n",
    "\n",
    "    test_portion = int(0.2 * len(inputs))\n",
    "\n",
    "    if len(train_x) == 0:\n",
    "        train_x = inputs[:-test_portion]\n",
    "        train_y = labels[:-test_portion]\n",
    "    else:\n",
    "        train_x = np.concatenate((train_x,inputs[:-test_portion]))\n",
    "        train_y = np.concatenate((train_y,labels[:-test_portion]))\n",
    "\n",
    "    if len(test_x) == 0:\n",
    "        test_x = inputs[-test_portion:]\n",
    "        test_y = labels[-test_portion:]\n",
    "    else:\n",
    "        test_x = np.concatenate((test_x,inputs[-test_portion:]))\n",
    "        test_y = np.concatenate((test_y,labels[-test_portion:]))"
   ],
   "metadata": {
    "collapsed": false
   }
  },
  {
   "cell_type": "code",
   "execution_count": 450,
   "outputs": [
    {
     "data": {
      "text/plain": "array([[[1.        ],\n        [0.95075689],\n        [0.92671186],\n        ...,\n        [0.83341703],\n        [0.8125442 ],\n        [0.79517458]],\n\n       [[0.95075689],\n        [0.92671186],\n        [0.91225103],\n        ...,\n        [0.8125442 ],\n        [0.79517458],\n        [0.77879722]],\n\n       [[0.92671186],\n        [0.91225103],\n        [0.88756713],\n        ...,\n        [0.79517458],\n        [0.77879722],\n        [0.76229649]],\n\n       ...,\n\n       [[0.26499101],\n        [0.24546687],\n        [0.23606066],\n        ...,\n        [0.15288434],\n        [0.14784123],\n        [0.13705667]],\n\n       [[0.24546687],\n        [0.23606066],\n        [0.21976561],\n        ...,\n        [0.14784123],\n        [0.13705667],\n        [0.11176704]],\n\n       [[0.23606066],\n        [0.21976561],\n        [0.20347056],\n        ...,\n        [0.13705667],\n        [0.11176704],\n        [0.10422975]]])"
     },
     "execution_count": 450,
     "metadata": {},
     "output_type": "execute_result"
    }
   ],
   "source": [
    "train_x"
   ],
   "metadata": {
    "collapsed": false
   }
  },
  {
   "cell_type": "code",
   "execution_count": 451,
   "outputs": [
    {
     "data": {
      "text/plain": "array([[0.77879722],\n       [0.76229649],\n       [0.74626657],\n       [0.72997125],\n       [0.7151503 ],\n       [0.70051339],\n       [0.68587648],\n       [0.66915473],\n       [0.65243297],\n       [0.636061  ],\n       [0.61983087],\n       [0.60439281],\n       [0.58869617],\n       [0.57194899],\n       [0.5583063 ],\n       [0.54412774],\n       [0.52876637],\n       [0.51627526],\n       [0.50285092],\n       [0.48623548],\n       [0.4777046 ],\n       [0.46501054],\n       [0.45127066],\n       [0.44122505],\n       [0.43093271],\n       [0.42064036],\n       [0.41231306],\n       [0.38909513],\n       [0.38362449],\n       [0.37713877],\n       [0.36704533],\n       [0.35354116],\n       [0.34545507],\n       [0.33200836],\n       [0.32091923],\n       [0.30771881],\n       [0.30116634],\n       [0.29135063],\n       [0.28153492],\n       [0.26955285],\n       [0.25757078],\n       [0.24768164],\n       [0.23660062],\n       [0.23265536],\n       [0.22270811],\n       [0.20293613],\n       [0.20124547],\n       [0.19178043],\n       [0.18140999],\n       [0.17242979],\n       [0.16477052],\n       [0.15188692],\n       [0.1517288 ],\n       [0.14272664],\n       [0.12625939],\n       [0.12830091],\n       [0.11885385],\n       [0.11060814],\n       [0.1078897 ],\n       [0.83433753],\n       [0.82302543],\n       [0.81071029],\n       [0.79805368],\n       [0.78595858],\n       [0.77439682],\n       [0.76283506],\n       [0.75015299],\n       [0.73747092],\n       [0.72391865],\n       [0.70947331],\n       [0.6969991 ],\n       [0.68437511],\n       [0.67297107],\n       [0.66049655],\n       [0.6499735 ],\n       [0.63634724],\n       [0.62881902],\n       [0.61753261],\n       [0.60011472],\n       [0.59427074],\n       [0.58188613],\n       [0.5675257 ],\n       [0.56076915],\n       [0.55031579],\n       [0.53986242],\n       [0.53701948],\n       [0.52034177],\n       [0.51110942],\n       [0.50806184],\n       [0.49885238],\n       [0.48358192],\n       [0.47864525],\n       [0.46734539],\n       [0.45809248],\n       [0.44468749],\n       [0.44042146],\n       [0.43205656],\n       [0.42369165],\n       [0.34477724],\n       [0.26586283],\n       [0.28234684],\n       [0.27874401],\n       [0.29216463],\n       [0.29227491],\n       [0.27163987],\n       [0.28306646],\n       [0.27897018],\n       [0.26971656],\n       [0.26476638],\n       [0.257116  ],\n       [0.23155477],\n       [0.24599601],\n       [0.2382625 ],\n       [0.20878935],\n       [0.80270801],\n       [0.789892  ],\n       [0.77659073],\n       [0.76254321],\n       [0.74849668],\n       [0.73499873],\n       [0.72150078],\n       [0.70532274],\n       [0.6891447 ],\n       [0.67331336],\n       [0.65729688],\n       [0.64163584],\n       [0.62546123],\n       [0.61062786],\n       [0.59701151],\n       [0.5814474 ],\n       [0.56602394],\n       [0.5538919 ],\n       [0.53884711],\n       [0.52143492],\n       [0.51065422],\n       [0.4967549 ],\n       [0.47993494],\n       [0.46852567],\n       [0.4571164 ],\n       [0.44570713],\n       [0.43727655],\n       [0.41745916],\n       [0.41126156],\n       [0.4023073 ],\n       [0.38908239],\n       [0.37527304],\n       [0.36669493],\n       [0.35258649],\n       [0.34076396],\n       [0.32472947],\n       [0.31403949],\n       [0.30290452],\n       [0.29176956],\n       [0.27871219],\n       [0.26565482],\n       [0.25375558],\n       [0.24190652],\n       [0.23680297],\n       [0.2252445 ],\n       [0.20941244],\n       [0.2070709 ],\n       [0.19698656],\n       [0.18584242],\n       [0.17365584],\n       [0.16274178],\n       [0.14695384],\n       [0.14291636],\n       [0.13291634],\n       [0.11879744],\n       [0.11702347],\n       [0.10732439],\n       [0.11018615],\n       [0.71014311],\n       [0.68671209],\n       [0.66025778],\n       [0.63521311],\n       [0.60975808],\n       [0.58712653],\n       [0.56449497],\n       [0.53948872],\n       [0.51448246],\n       [0.49150325],\n       [0.46672378],\n       [0.44573045],\n       [0.42191734],\n       [0.4045753 ],\n       [0.38917391],\n       [0.37251437],\n       [0.34669031],\n       [0.33212645],\n       [0.31812311],\n       [0.29342609],\n       [0.28475223],\n       [0.26499101],\n       [0.24546687],\n       [0.23606066],\n       [0.21976561],\n       [0.20347056],\n       [0.19172924],\n       [0.16155623],\n       [0.15288434],\n       [0.14784123],\n       [0.13705667],\n       [0.11176704],\n       [0.10422975],\n       [0.08795566]])"
     },
     "execution_count": 451,
     "metadata": {},
     "output_type": "execute_result"
    }
   ],
   "source": [
    "train_y"
   ],
   "metadata": {
    "collapsed": false
   }
  },
  {
   "cell_type": "code",
   "execution_count": 452,
   "outputs": [],
   "source": [
    "batch_size = 32\n",
    "train_data = TensorDataset(torch.from_numpy(train_x), torch.from_numpy(train_y))\n",
    "train_loader = DataLoader(train_data, shuffle=True, batch_size=batch_size, drop_last=True)"
   ],
   "metadata": {
    "collapsed": false
   }
  },
  {
   "cell_type": "code",
   "execution_count": 453,
   "outputs": [],
   "source": [
    "device = torch.device(\"cpu\")"
   ],
   "metadata": {
    "collapsed": false
   }
  },
  {
   "cell_type": "code",
   "execution_count": 454,
   "outputs": [],
   "source": [
    "class GRUNet(nn.Module):\n",
    "    def __init__(self, input_dim, hidden_dim, output_dim, n_layers, drop_prob=0.2):\n",
    "        super(GRUNet, self).__init__()\n",
    "        self.hidden_dim = hidden_dim\n",
    "        self.n_layers = n_layers\n",
    "\n",
    "        self.gru = nn.GRU(input_dim, hidden_dim, n_layers, batch_first=True, dropout=drop_prob)\n",
    "        self.fc = nn.Linear(hidden_dim, output_dim)\n",
    "        self.relu = nn.ReLU()\n",
    "\n",
    "    def forward(self, x, h):\n",
    "        out, h = self.gru(x, h)\n",
    "        out = self.fc(self.relu(out[:, -1]))\n",
    "        return out, h\n",
    "\n",
    "    def init_hidden(self, batch_size):\n",
    "        weight = next(self.parameters()).data\n",
    "        hidden = weight.new(self.n_layers, batch_size, self.hidden_dim).zero_().to(device)\n",
    "        return hidden"
   ],
   "metadata": {
    "collapsed": false
   }
  },
  {
   "cell_type": "code",
   "execution_count": 455,
   "outputs": [],
   "source": [
    "def train(train_loader, learn_rate, hidden_dim=256, EPOCHS=20, model_type=\"GRU\"):\n",
    "    # Setting common hyperparameters\n",
    "    input_dim = next(iter(train_loader))[0].shape[2]\n",
    "    output_dim = 1\n",
    "    n_layers = 2\n",
    "    # Instantiating the models\n",
    "\n",
    "    model = GRUNet(input_dim, hidden_dim, output_dim, n_layers)\n",
    "\n",
    "    model.to(device)\n",
    "\n",
    "    # Defining loss function and optimizer\n",
    "    criterion = nn.MSELoss()\n",
    "    optimizer = torch.optim.Adam(model.parameters(), lr=learn_rate)\n",
    "\n",
    "    model.train()\n",
    "    print(\"Starting Training of {} model\".format(model_type))\n",
    "    epoch_times = []\n",
    "    # Start training loop\n",
    "    for epoch in range(1, EPOCHS + 1):\n",
    "        start_time = time.process_time()\n",
    "        h = model.init_hidden(batch_size)\n",
    "        avg_loss = 0.\n",
    "        counter = 0\n",
    "        for x, label in train_loader:\n",
    "            counter += 1\n",
    "            h = h.data\n",
    "            model.zero_grad()\n",
    "\n",
    "            out, h = model(x.to(device).float(), h)\n",
    "            loss = criterion(out, label.to(device).float())\n",
    "            loss.backward()\n",
    "            optimizer.step()\n",
    "            avg_loss += loss.item()\n",
    "            if True:\n",
    "                print(\"Epoch {}......Step: {}/{}....... Average Loss for Epoch: {}\".format(epoch, counter,\n",
    "                                                                                           len(train_loader),\n",
    "                                                                                           avg_loss / counter))\n",
    "        current_time = time.process_time()\n",
    "        print(\"Epoch {}/{} Done, Total Loss: {}\".format(epoch, EPOCHS, avg_loss / len(train_loader)))\n",
    "        print(\"Total Time Elapsed: {} seconds\".format(str(current_time - start_time)))\n",
    "        epoch_times.append(current_time - start_time)\n",
    "    print(\"Total Training Time: {} seconds\".format(str(sum(epoch_times))))\n",
    "    return model\n",
    "\n",
    "\n",
    "def evaluate(model, test_x, test_y, label_scalers):\n",
    "    model.eval()\n",
    "    outputs = []\n",
    "    targets = []\n",
    "    start_time = time.process_time()\n",
    "\n",
    "    inp = torch.from_numpy(np.array(test_x))\n",
    "    labs = torch.from_numpy(np.array(test_y))\n",
    "    h = model.init_hidden(inp.shape[0])\n",
    "    out, h = model(inp.to(device).float(), h)\n",
    "    outputs.append(label_sc.inverse_transform(out.cpu().detach().numpy()).reshape(-1))\n",
    "    targets.append(label_sc.inverse_transform(labs.numpy()).reshape(-1))\n",
    "\n",
    "    print(\"Evaluation Time: {}\".format(str(time.process_time() - start_time)))\n",
    "    sMAPE = 0\n",
    "    for i in range(len(outputs)):\n",
    "        sMAPE += np.mean(abs(outputs[i] - targets[i]) / (targets[i] + outputs[i]) / 2) / len(outputs)\n",
    "    print(\"sMAPE: {}%\".format(sMAPE * 100))\n",
    "    return outputs, targets, sMAPE"
   ],
   "metadata": {
    "collapsed": false
   }
  },
  {
   "cell_type": "code",
   "execution_count": 456,
   "outputs": [
    {
     "name": "stdout",
     "output_type": "stream",
     "text": [
      "Starting Training of GRU model\n",
      "Epoch 1......Step: 1/6....... Average Loss for Epoch: 0.24079734086990356\n",
      "Epoch 1......Step: 2/6....... Average Loss for Epoch: 0.18834421038627625\n",
      "Epoch 1......Step: 3/6....... Average Loss for Epoch: 0.16670021414756775\n",
      "Epoch 1......Step: 4/6....... Average Loss for Epoch: 0.13775975443422794\n",
      "Epoch 1......Step: 5/6....... Average Loss for Epoch: 0.1186397172510624\n",
      "Epoch 1......Step: 6/6....... Average Loss for Epoch: 0.10872660887738068\n",
      "Epoch 1/20 Done, Total Loss: 0.10872660887738068\n",
      "Total Time Elapsed: 0.8125 seconds\n",
      "Epoch 2......Step: 1/6....... Average Loss for Epoch: 0.05857308581471443\n",
      "Epoch 2......Step: 2/6....... Average Loss for Epoch: 0.05713431537151337\n",
      "Epoch 2......Step: 3/6....... Average Loss for Epoch: 0.049087810019652046\n",
      "Epoch 2......Step: 4/6....... Average Loss for Epoch: 0.04422466456890106\n",
      "Epoch 2......Step: 5/6....... Average Loss for Epoch: 0.04302000477910042\n",
      "Epoch 2......Step: 6/6....... Average Loss for Epoch: 0.04165403420726458\n",
      "Epoch 2/20 Done, Total Loss: 0.04165403420726458\n",
      "Total Time Elapsed: 0.765625 seconds\n",
      "Epoch 3......Step: 1/6....... Average Loss for Epoch: 0.04433077946305275\n",
      "Epoch 3......Step: 2/6....... Average Loss for Epoch: 0.03572785761207342\n",
      "Epoch 3......Step: 3/6....... Average Loss for Epoch: 0.03258240222930908\n",
      "Epoch 3......Step: 4/6....... Average Loss for Epoch: 0.028862302657216787\n",
      "Epoch 3......Step: 5/6....... Average Loss for Epoch: 0.02634310908615589\n",
      "Epoch 3......Step: 6/6....... Average Loss for Epoch: 0.025837585019568603\n",
      "Epoch 3/20 Done, Total Loss: 0.025837585019568603\n",
      "Total Time Elapsed: 0.96875 seconds\n",
      "Epoch 4......Step: 1/6....... Average Loss for Epoch: 0.0169026181101799\n",
      "Epoch 4......Step: 2/6....... Average Loss for Epoch: 0.017404232174158096\n",
      "Epoch 4......Step: 3/6....... Average Loss for Epoch: 0.018071652079621952\n",
      "Epoch 4......Step: 4/6....... Average Loss for Epoch: 0.01710474817082286\n",
      "Epoch 4......Step: 5/6....... Average Loss for Epoch: 0.015456934086978435\n",
      "Epoch 4......Step: 6/6....... Average Loss for Epoch: 0.015022489552696546\n",
      "Epoch 4/20 Done, Total Loss: 0.015022489552696546\n",
      "Total Time Elapsed: 1.140625 seconds\n",
      "Epoch 5......Step: 1/6....... Average Loss for Epoch: 0.01419329084455967\n",
      "Epoch 5......Step: 2/6....... Average Loss for Epoch: 0.009632410015910864\n",
      "Epoch 5......Step: 3/6....... Average Loss for Epoch: 0.008075885629902283\n",
      "Epoch 5......Step: 4/6....... Average Loss for Epoch: 0.006856053369119763\n",
      "Epoch 5......Step: 5/6....... Average Loss for Epoch: 0.006540650874376297\n",
      "Epoch 5......Step: 6/6....... Average Loss for Epoch: 0.0059454478323459625\n",
      "Epoch 5/20 Done, Total Loss: 0.0059454478323459625\n",
      "Total Time Elapsed: 0.921875 seconds\n",
      "Epoch 6......Step: 1/6....... Average Loss for Epoch: 0.0009418997215107083\n",
      "Epoch 6......Step: 2/6....... Average Loss for Epoch: 0.002080891572404653\n",
      "Epoch 6......Step: 3/6....... Average Loss for Epoch: 0.0025819847748304405\n",
      "Epoch 6......Step: 4/6....... Average Loss for Epoch: 0.002506990364054218\n",
      "Epoch 6......Step: 5/6....... Average Loss for Epoch: 0.0023972559487447143\n",
      "Epoch 6......Step: 6/6....... Average Loss for Epoch: 0.002793153495683024\n",
      "Epoch 6/20 Done, Total Loss: 0.002793153495683024\n",
      "Total Time Elapsed: 1.125 seconds\n",
      "Epoch 7......Step: 1/6....... Average Loss for Epoch: 0.005347477272152901\n",
      "Epoch 7......Step: 2/6....... Average Loss for Epoch: 0.0036463953438214958\n",
      "Epoch 7......Step: 3/6....... Average Loss for Epoch: 0.003353373263962567\n",
      "Epoch 7......Step: 4/6....... Average Loss for Epoch: 0.0034177903144154698\n",
      "Epoch 7......Step: 5/6....... Average Loss for Epoch: 0.003076408104971051\n",
      "Epoch 7......Step: 6/6....... Average Loss for Epoch: 0.0026690406860628477\n",
      "Epoch 7/20 Done, Total Loss: 0.0026690406860628477\n",
      "Total Time Elapsed: 0.875 seconds\n",
      "Epoch 8......Step: 1/6....... Average Loss for Epoch: 0.0023717982694506645\n",
      "Epoch 8......Step: 2/6....... Average Loss for Epoch: 0.002012535638641566\n",
      "Epoch 8......Step: 3/6....... Average Loss for Epoch: 0.0018109693579996626\n",
      "Epoch 8......Step: 4/6....... Average Loss for Epoch: 0.0016175905766431242\n",
      "Epoch 8......Step: 5/6....... Average Loss for Epoch: 0.0016470447648316623\n",
      "Epoch 8......Step: 6/6....... Average Loss for Epoch: 0.0016653021448291838\n",
      "Epoch 8/20 Done, Total Loss: 0.0016653021448291838\n",
      "Total Time Elapsed: 1.015625 seconds\n",
      "Epoch 9......Step: 1/6....... Average Loss for Epoch: 0.001966927433386445\n",
      "Epoch 9......Step: 2/6....... Average Loss for Epoch: 0.0020627175690606236\n",
      "Epoch 9......Step: 3/6....... Average Loss for Epoch: 0.0017898613975072901\n",
      "Epoch 9......Step: 4/6....... Average Loss for Epoch: 0.0016484138322994113\n",
      "Epoch 9......Step: 5/6....... Average Loss for Epoch: 0.0015701363794505597\n",
      "Epoch 9......Step: 6/6....... Average Loss for Epoch: 0.0014730504287096362\n",
      "Epoch 9/20 Done, Total Loss: 0.0014730504287096362\n",
      "Total Time Elapsed: 1.0 seconds\n",
      "Epoch 10......Step: 1/6....... Average Loss for Epoch: 0.0009681161027401686\n",
      "Epoch 10......Step: 2/6....... Average Loss for Epoch: 0.0009444208408240229\n",
      "Epoch 10......Step: 3/6....... Average Loss for Epoch: 0.0008887112101850411\n",
      "Epoch 10......Step: 4/6....... Average Loss for Epoch: 0.0008858437213348225\n",
      "Epoch 10......Step: 5/6....... Average Loss for Epoch: 0.0008753736387006938\n",
      "Epoch 10......Step: 6/6....... Average Loss for Epoch: 0.0008226642094086856\n",
      "Epoch 10/20 Done, Total Loss: 0.0008226642094086856\n",
      "Total Time Elapsed: 1.015625 seconds\n",
      "Epoch 11......Step: 1/6....... Average Loss for Epoch: 0.000766859739087522\n",
      "Epoch 11......Step: 2/6....... Average Loss for Epoch: 0.0006665611581411213\n",
      "Epoch 11......Step: 3/6....... Average Loss for Epoch: 0.0007021947531029582\n",
      "Epoch 11......Step: 4/6....... Average Loss for Epoch: 0.0006777006346965209\n",
      "Epoch 11......Step: 5/6....... Average Loss for Epoch: 0.0006554252351634205\n",
      "Epoch 11......Step: 6/6....... Average Loss for Epoch: 0.0006284784661450734\n",
      "Epoch 11/20 Done, Total Loss: 0.0006284784661450734\n",
      "Total Time Elapsed: 0.984375 seconds\n",
      "Epoch 12......Step: 1/6....... Average Loss for Epoch: 0.0007378396694548428\n",
      "Epoch 12......Step: 2/6....... Average Loss for Epoch: 0.0006752924527972937\n",
      "Epoch 12......Step: 3/6....... Average Loss for Epoch: 0.0005590367169740299\n",
      "Epoch 12......Step: 4/6....... Average Loss for Epoch: 0.0005780821375083178\n",
      "Epoch 12......Step: 5/6....... Average Loss for Epoch: 0.0005514291930012405\n",
      "Epoch 12......Step: 6/6....... Average Loss for Epoch: 0.0005369995051296428\n",
      "Epoch 12/20 Done, Total Loss: 0.0005369995051296428\n",
      "Total Time Elapsed: 0.984375 seconds\n",
      "Epoch 13......Step: 1/6....... Average Loss for Epoch: 0.0002732538850978017\n",
      "Epoch 13......Step: 2/6....... Average Loss for Epoch: 0.0003329252649564296\n",
      "Epoch 13......Step: 3/6....... Average Loss for Epoch: 0.00037501459397996467\n",
      "Epoch 13......Step: 4/6....... Average Loss for Epoch: 0.0004684356099460274\n",
      "Epoch 13......Step: 5/6....... Average Loss for Epoch: 0.0005428703618235887\n",
      "Epoch 13......Step: 6/6....... Average Loss for Epoch: 0.0005039900618915757\n",
      "Epoch 13/20 Done, Total Loss: 0.0005039900618915757\n",
      "Total Time Elapsed: 1.109375 seconds\n",
      "Epoch 14......Step: 1/6....... Average Loss for Epoch: 0.0002839351654984057\n",
      "Epoch 14......Step: 2/6....... Average Loss for Epoch: 0.0004652785137295723\n",
      "Epoch 14......Step: 3/6....... Average Loss for Epoch: 0.0005662846961058676\n",
      "Epoch 14......Step: 4/6....... Average Loss for Epoch: 0.0005325018646544777\n",
      "Epoch 14......Step: 5/6....... Average Loss for Epoch: 0.0006211399508174509\n",
      "Epoch 14......Step: 6/6....... Average Loss for Epoch: 0.0005668573285220191\n",
      "Epoch 14/20 Done, Total Loss: 0.0005668573285220191\n",
      "Total Time Elapsed: 0.953125 seconds\n",
      "Epoch 15......Step: 1/6....... Average Loss for Epoch: 0.0010268199257552624\n",
      "Epoch 15......Step: 2/6....... Average Loss for Epoch: 0.0007107127021299675\n",
      "Epoch 15......Step: 3/6....... Average Loss for Epoch: 0.0006130541733000427\n",
      "Epoch 15......Step: 4/6....... Average Loss for Epoch: 0.0005657530127791688\n",
      "Epoch 15......Step: 5/6....... Average Loss for Epoch: 0.0005393212719354779\n",
      "Epoch 15......Step: 6/6....... Average Loss for Epoch: 0.0005012628632054353\n",
      "Epoch 15/20 Done, Total Loss: 0.0005012628632054353\n",
      "Total Time Elapsed: 0.921875 seconds\n",
      "Epoch 16......Step: 1/6....... Average Loss for Epoch: 0.0012366559822112322\n",
      "Epoch 16......Step: 2/6....... Average Loss for Epoch: 0.0007917203183751553\n",
      "Epoch 16......Step: 3/6....... Average Loss for Epoch: 0.0007077725798202058\n",
      "Epoch 16......Step: 4/6....... Average Loss for Epoch: 0.0006581911002285779\n",
      "Epoch 16......Step: 5/6....... Average Loss for Epoch: 0.0006098160112742335\n",
      "Epoch 16......Step: 6/6....... Average Loss for Epoch: 0.0005887988033161188\n",
      "Epoch 16/20 Done, Total Loss: 0.0005887988033161188\n",
      "Total Time Elapsed: 0.875 seconds\n",
      "Epoch 17......Step: 1/6....... Average Loss for Epoch: 0.0008077106904238462\n",
      "Epoch 17......Step: 2/6....... Average Loss for Epoch: 0.0008319004846271127\n",
      "Epoch 17......Step: 3/6....... Average Loss for Epoch: 0.0007229599674853185\n",
      "Epoch 17......Step: 4/6....... Average Loss for Epoch: 0.000732611762941815\n",
      "Epoch 17......Step: 5/6....... Average Loss for Epoch: 0.0006553988438099623\n",
      "Epoch 17......Step: 6/6....... Average Loss for Epoch: 0.0005836468214207949\n",
      "Epoch 17/20 Done, Total Loss: 0.0005836468214207949\n",
      "Total Time Elapsed: 0.90625 seconds\n",
      "Epoch 18......Step: 1/6....... Average Loss for Epoch: 0.0005325087695382535\n",
      "Epoch 18......Step: 2/6....... Average Loss for Epoch: 0.0004354712727945298\n",
      "Epoch 18......Step: 3/6....... Average Loss for Epoch: 0.00041120959213003516\n",
      "Epoch 18......Step: 4/6....... Average Loss for Epoch: 0.00044706801418215036\n",
      "Epoch 18......Step: 5/6....... Average Loss for Epoch: 0.00047276467084884645\n",
      "Epoch 18......Step: 6/6....... Average Loss for Epoch: 0.0005340882538196942\n",
      "Epoch 18/20 Done, Total Loss: 0.0005340882538196942\n",
      "Total Time Elapsed: 0.96875 seconds\n",
      "Epoch 19......Step: 1/6....... Average Loss for Epoch: 0.00044598590466193855\n",
      "Epoch 19......Step: 2/6....... Average Loss for Epoch: 0.000393207956221886\n",
      "Epoch 19......Step: 3/6....... Average Loss for Epoch: 0.0005730241052030275\n",
      "Epoch 19......Step: 4/6....... Average Loss for Epoch: 0.0005769174822489731\n",
      "Epoch 19......Step: 5/6....... Average Loss for Epoch: 0.0005232556664850563\n",
      "Epoch 19......Step: 6/6....... Average Loss for Epoch: 0.0004834632806402321\n",
      "Epoch 19/20 Done, Total Loss: 0.0004834632806402321\n",
      "Total Time Elapsed: 1.046875 seconds\n",
      "Epoch 20......Step: 1/6....... Average Loss for Epoch: 0.000514992221724242\n",
      "Epoch 20......Step: 2/6....... Average Loss for Epoch: 0.0004977495409548283\n",
      "Epoch 20......Step: 3/6....... Average Loss for Epoch: 0.0004425231018103659\n",
      "Epoch 20......Step: 4/6....... Average Loss for Epoch: 0.00047422411444131285\n",
      "Epoch 20......Step: 5/6....... Average Loss for Epoch: 0.0005146111827343703\n",
      "Epoch 20......Step: 6/6....... Average Loss for Epoch: 0.0005198957903000215\n",
      "Epoch 20/20 Done, Total Loss: 0.0005198957903000215\n",
      "Total Time Elapsed: 1.046875 seconds\n",
      "Total Training Time: 19.4375 seconds\n"
     ]
    }
   ],
   "source": [
    "lr = 0.001\n",
    "gru_model = train(train_loader, lr, model_type=\"GRU\")"
   ],
   "metadata": {
    "collapsed": false
   }
  },
  {
   "cell_type": "code",
   "execution_count": 457,
   "outputs": [
    {
     "name": "stdout",
     "output_type": "stream",
     "text": [
      "Evaluation Time: 0.078125\n",
      "sMAPE: 0.21649599443780496%\n"
     ]
    }
   ],
   "source": [
    "gru_outputs, targets, gru_sMAPE = evaluate(gru_model, test_x, test_y, label_sc)"
   ],
   "metadata": {
    "collapsed": false
   }
  },
  {
   "cell_type": "code",
   "execution_count": 458,
   "outputs": [
    {
     "data": {
      "text/plain": "[array([0.77419364, 0.77316517, 0.7719542 , 0.77074945, 0.7697109 ,\n        0.7687528 , 0.7678049 , 0.7667625 , 0.7657072 , 0.7647043 ,\n        0.7635963 , 0.76254   , 0.76157147, 0.76047534, 0.79671824,\n        0.7952844 , 0.79398257, 0.793025  , 0.7924024 , 0.7918309 ,\n        0.79065627, 0.7893187 , 0.78800005, 0.78688705, 0.78216004,\n        0.7798814 , 0.7792519 , 0.77406555, 0.7731253 , 0.77227664,\n        0.7713018 , 0.77035993, 0.7693875 , 0.7683346 , 0.76718456,\n        0.7659775 , 0.76477504, 0.7635127 , 0.7622965 , 0.7611782 ,\n        0.76005554, 0.77491087, 0.77276677, 0.77053285, 0.76843196,\n        0.76645416, 0.7646037 , 0.7629474 , 0.76148283], dtype=float32)]"
     },
     "execution_count": 458,
     "metadata": {},
     "output_type": "execute_result"
    }
   ],
   "source": [
    "gru_outputs"
   ],
   "metadata": {
    "collapsed": false
   }
  },
  {
   "cell_type": "code",
   "execution_count": 460,
   "outputs": [
    {
     "data": {
      "text/plain": "<matplotlib.legend.Legend at 0x1861ad7b460>"
     },
     "execution_count": 460,
     "metadata": {},
     "output_type": "execute_result"
    },
    {
     "data": {
      "text/plain": "<Figure size 1400x1000 with 1 Axes>",
      "image/png": "[encoded data removed]"
     },
     "metadata": {},
     "output_type": "display_data"
    }
   ],
   "source": [
    "plt.figure(figsize=(14, 10))\n",
    "plt.subplot(2, 2, 1)\n",
    "plt.plot(gru_outputs[0][-100:], \"-o\", color=\"g\", label=\"Predicted\")\n",
    "plt.plot(targets[0][-100:], color=\"b\", label=\"Actual\")\n",
    "plt.ylabel('soh')\n",
    "plt.legend()"
   ],
   "metadata": {
    "collapsed": false
   }
  },
  {
   "cell_type": "code",
   "execution_count": 459,
   "outputs": [],
   "source": [],
   "metadata": {
    "collapsed": false
   }
  }
 ],
 "metadata": {
  "kernelspec": {
   "display_name": "venv",
   "language": "python",
   "name": "python3"
  },
  "language_info": {
   "codemirror_mode": {
    "name": "ipython",
    "version": 3
   },
   "file_extension": ".py",
   "mimetype": "text/x-python",
   "name": "python",
   "nbconvert_exporter": "python",
   "pygments_lexer": "ipython3",
   "version": "3.10.8"
  },
  "vscode": {
   "interpreter": {
    "hash": "abb986b297a1e39e4a9784cac1041b65609e2eefd57e07e1d90a430925bc2fc5"
   }
  }
 },
 "nbformat": 4,
 "nbformat_minor": 0
}
