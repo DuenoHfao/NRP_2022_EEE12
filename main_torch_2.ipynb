{
 "cells": [
  {
   "cell_type": "code",
   "execution_count": 111,
   "metadata": {
    "collapsed": false
   },
   "outputs": [],
   "source": [
    "import scipy.io\n",
    "import pandas as pd\n",
    "\n",
    "import os\n",
    "import time\n",
    "\n",
    "import numpy as np\n",
    "import matplotlib.pyplot as plt\n",
    "\n",
    "import torch\n",
    "import torch.nn as nn\n",
    "from torch.utils.data import TensorDataset, DataLoader\n",
    "\n",
    "from tqdm import tqdm_notebook\n",
    "from sklearn.preprocessing import MinMaxScaler\n",
    "\n",
    "import pandas as pd\n",
    "import numpy as np\n",
    "import matplotlib.pyplot as plt\n",
    "from sklearn.preprocessing import MinMaxScaler, StandardScaler\n",
    "import warnings\n",
    "from scipy import stats"
   ]
  },
  {
   "cell_type": "code",
   "execution_count": 112,
   "metadata": {
    "collapsed": false
   },
   "outputs": [],
   "source": [
    "mat = scipy.io.loadmat('Oxford_Battery_Degradation_Dataset_1.mat')"
   ]
  },
  {
   "cell_type": "code",
   "execution_count": 113,
   "metadata": {
    "collapsed": false
   },
   "outputs": [
    {
     "data": {
      "text/plain": "dict_keys(['__header__', '__version__', '__globals__', 'Cell1', 'Cell2', 'Cell3', 'Cell4', 'Cell5', 'Cell6', 'Cell7', 'Cell8'])"
     },
     "execution_count": 113,
     "metadata": {},
     "output_type": "execute_result"
    }
   ],
   "source": [
    "mat.keys()"
   ]
  },
  {
   "cell_type": "code",
   "execution_count": 114,
   "outputs": [],
   "source": [
    "input_data = [[], []]"
   ],
   "metadata": {
    "collapsed": false
   }
  },
  {
   "cell_type": "code",
   "execution_count": 115,
   "outputs": [
    {
     "name": "stdout",
     "output_type": "stream",
     "text": [
      "724.1208914093187\n",
      "714.5350426825697\n",
      "709.8543464961379\n",
      "707.0393485194566\n",
      "702.2342863457235\n",
      "698.8440013150872\n",
      "695.4850715278354\n",
      "691.6932258285015\n",
      "687.6300422440017\n",
      "684.2488065128581\n",
      "681.0607272448832\n",
      "677.8486336050008\n",
      "674.7281887527703\n",
      "671.556081370731\n",
      "668.6709791990864\n",
      "nan\n",
      "662.9724287937147\n",
      "nan\n",
      "656.4621886431951\n",
      "653.2751603988444\n",
      "650.1157422984008\n",
      "647.1105116933119\n",
      "644.0549444561768\n",
      "640.7948747304991\n",
      "638.1391374235501\n",
      "635.3790871886936\n",
      "632.3887851445143\n",
      "629.9572173218418\n",
      "627.3439847566834\n",
      "624.1095617381898\n",
      "622.448908879052\n",
      "619.9778349196439\n",
      "617.3031788485108\n",
      "615.3476618618469\n",
      "nan\n",
      "611.340570310974\n",
      "609.7195455723199\n",
      "605.1998563440754\n",
      "604.1349210491537\n",
      "602.8723865926853\n",
      "600.9075598059693\n",
      "598.2787878589917\n",
      "596.7047192299974\n",
      "594.08713143121\n",
      "591.9284795739374\n",
      "589.3588371850756\n",
      "588.0833074787903\n",
      "nan\n",
      "584.2617834340922\n",
      "nan\n",
      "579.5968326875441\n",
      "577.6717759357741\n",
      "575.5147033984103\n",
      "574.7467034891866\n",
      "572.8103356272312\n",
      "568.9614464139573\n",
      "568.632337365943\n",
      "566.7898372362026\n",
      "564.7710880962863\n",
      "563.0229675191888\n",
      "561.5319859533353\n",
      "559.0240164641148\n",
      "558.9932350188666\n",
      "557.2408422441746\n",
      "554.0352644300469\n",
      "554.4326746213887\n",
      "552.5936740321791\n",
      "550.9885335174934\n",
      "550.4593525596042\n",
      "549.1350762103983\n",
      "545.1952021221653\n",
      "545.1952021221653\n",
      "545.2029575675828\n",
      "543.6705120329285\n",
      "541.9178534255642\n",
      "539.6733627491049\n",
      "538.7682346467591\n",
      "537.5784986630249\n",
      "534.7154670857103\n",
      "534.7317288957756\n",
      "533.2962153664076\n",
      "529.4571383120897\n",
      "530.5961183990717\n"
     ]
    }
   ],
   "source": [
    "for i in range(0, 83):\n",
    "    if (i < 10):\n",
    "        if (i == 0):\n",
    "            temp = \"cyc0000\"\n",
    "        else:\n",
    "            temp = \"cyc0\" + str(i) + \"00\"\n",
    "    else:\n",
    "        temp = \"cyc\" + str(i) + \"00\"\n",
    "    try:\n",
    "        curr = mat[\"Cell1\"][0][temp][0][0][\"C1ch\"][0][0]['q'][0][-1][0]\n",
    "    except ValueError:\n",
    "        curr = float(\"NaN\")\n",
    "    input_data[0].append(i)\n",
    "    input_data[1].append(curr)\n",
    "    print(curr)"
   ],
   "metadata": {
    "collapsed": false
   }
  },
  {
   "cell_type": "code",
   "execution_count": 116,
   "outputs": [
    {
     "data": {
      "text/plain": "    cycle     q_value\n0     0.0  724.120891\n1     1.0  714.535043\n2     2.0  709.854346\n3     3.0  707.039349\n4     4.0  702.234286\n..    ...         ...\n78   78.0  534.715467\n79   79.0  534.731729\n80   80.0  533.296215\n81   81.0  529.457138\n82   82.0  530.596118\n\n[83 rows x 2 columns]",
      "text/html": "<div>\n<style scoped>\n    .dataframe tbody tr th:only-of-type {\n        vertical-align: middle;\n    }\n\n    .dataframe tbody tr th {\n        vertical-align: top;\n    }\n\n    .dataframe thead th {\n        text-align: right;\n    }\n</style>\n<table border=\"1\" class=\"dataframe\">\n  <thead>\n    <tr style=\"text-align: right;\">\n      <th></th>\n      <th>cycle</th>\n      <th>q_value</th>\n    </tr>\n  </thead>\n  <tbody>\n    <tr>\n      <th>0</th>\n      <td>0.0</td>\n      <td>724.120891</td>\n    </tr>\n    <tr>\n      <th>1</th>\n      <td>1.0</td>\n      <td>714.535043</td>\n    </tr>\n    <tr>\n      <th>2</th>\n      <td>2.0</td>\n      <td>709.854346</td>\n    </tr>\n    <tr>\n      <th>3</th>\n      <td>3.0</td>\n      <td>707.039349</td>\n    </tr>\n    <tr>\n      <th>4</th>\n      <td>4.0</td>\n      <td>702.234286</td>\n    </tr>\n    <tr>\n      <th>...</th>\n      <td>...</td>\n      <td>...</td>\n    </tr>\n    <tr>\n      <th>78</th>\n      <td>78.0</td>\n      <td>534.715467</td>\n    </tr>\n    <tr>\n      <th>79</th>\n      <td>79.0</td>\n      <td>534.731729</td>\n    </tr>\n    <tr>\n      <th>80</th>\n      <td>80.0</td>\n      <td>533.296215</td>\n    </tr>\n    <tr>\n      <th>81</th>\n      <td>81.0</td>\n      <td>529.457138</td>\n    </tr>\n    <tr>\n      <th>82</th>\n      <td>82.0</td>\n      <td>530.596118</td>\n    </tr>\n  </tbody>\n</table>\n<p>83 rows × 2 columns</p>\n</div>"
     },
     "execution_count": 116,
     "metadata": {},
     "output_type": "execute_result"
    }
   ],
   "source": [
    "df_input = pd.DataFrame(input_data).transpose()\n",
    "df_input = df_input.rename(columns = {0: \"cycle\", 1:\"q_value\"})\n",
    "df_input"
   ],
   "metadata": {
    "collapsed": false
   }
  },
  {
   "cell_type": "code",
   "execution_count": 117,
   "outputs": [
    {
     "data": {
      "text/plain": "    cycle     q_value  interpolate_spline\n0     0.0  724.120891          724.120891\n1     1.0  714.535043          714.535043\n2     2.0  709.854346          709.854346\n3     3.0  707.039349          707.039349\n4     4.0  702.234286          702.234286\n..    ...         ...                 ...\n78   78.0  534.715467          534.715467\n79   79.0  534.731729          534.731729\n80   80.0  533.296215          533.296215\n81   81.0  529.457138          529.457138\n82   82.0  530.596118          530.596118\n\n[83 rows x 3 columns]",
      "text/html": "<div>\n<style scoped>\n    .dataframe tbody tr th:only-of-type {\n        vertical-align: middle;\n    }\n\n    .dataframe tbody tr th {\n        vertical-align: top;\n    }\n\n    .dataframe thead th {\n        text-align: right;\n    }\n</style>\n<table border=\"1\" class=\"dataframe\">\n  <thead>\n    <tr style=\"text-align: right;\">\n      <th></th>\n      <th>cycle</th>\n      <th>q_value</th>\n      <th>interpolate_spline</th>\n    </tr>\n  </thead>\n  <tbody>\n    <tr>\n      <th>0</th>\n      <td>0.0</td>\n      <td>724.120891</td>\n      <td>724.120891</td>\n    </tr>\n    <tr>\n      <th>1</th>\n      <td>1.0</td>\n      <td>714.535043</td>\n      <td>714.535043</td>\n    </tr>\n    <tr>\n      <th>2</th>\n      <td>2.0</td>\n      <td>709.854346</td>\n      <td>709.854346</td>\n    </tr>\n    <tr>\n      <th>3</th>\n      <td>3.0</td>\n      <td>707.039349</td>\n      <td>707.039349</td>\n    </tr>\n    <tr>\n      <th>4</th>\n      <td>4.0</td>\n      <td>702.234286</td>\n      <td>702.234286</td>\n    </tr>\n    <tr>\n      <th>...</th>\n      <td>...</td>\n      <td>...</td>\n      <td>...</td>\n    </tr>\n    <tr>\n      <th>78</th>\n      <td>78.0</td>\n      <td>534.715467</td>\n      <td>534.715467</td>\n    </tr>\n    <tr>\n      <th>79</th>\n      <td>79.0</td>\n      <td>534.731729</td>\n      <td>534.731729</td>\n    </tr>\n    <tr>\n      <th>80</th>\n      <td>80.0</td>\n      <td>533.296215</td>\n      <td>533.296215</td>\n    </tr>\n    <tr>\n      <th>81</th>\n      <td>81.0</td>\n      <td>529.457138</td>\n      <td>529.457138</td>\n    </tr>\n    <tr>\n      <th>82</th>\n      <td>82.0</td>\n      <td>530.596118</td>\n      <td>530.596118</td>\n    </tr>\n  </tbody>\n</table>\n<p>83 rows × 3 columns</p>\n</div>"
     },
     "execution_count": 117,
     "metadata": {},
     "output_type": "execute_result"
    }
   ],
   "source": [
    "df_input['interpolate_spline'] = df_input['q_value'].interpolate(option='spline')\n",
    "df_input"
   ],
   "metadata": {
    "collapsed": false
   }
  },
  {
   "cell_type": "code",
   "execution_count": 118,
   "outputs": [
    {
     "data": {
      "text/plain": "    cycle  interpolate_spline\n0     0.0          724.120891\n1     1.0          714.535043\n2     2.0          709.854346\n3     3.0          707.039349\n4     4.0          702.234286\n..    ...                 ...\n78   78.0          534.715467\n79   79.0          534.731729\n80   80.0          533.296215\n81   81.0          529.457138\n82   82.0          530.596118\n\n[83 rows x 2 columns]",
      "text/html": "<div>\n<style scoped>\n    .dataframe tbody tr th:only-of-type {\n        vertical-align: middle;\n    }\n\n    .dataframe tbody tr th {\n        vertical-align: top;\n    }\n\n    .dataframe thead th {\n        text-align: right;\n    }\n</style>\n<table border=\"1\" class=\"dataframe\">\n  <thead>\n    <tr style=\"text-align: right;\">\n      <th></th>\n      <th>cycle</th>\n      <th>interpolate_spline</th>\n    </tr>\n  </thead>\n  <tbody>\n    <tr>\n      <th>0</th>\n      <td>0.0</td>\n      <td>724.120891</td>\n    </tr>\n    <tr>\n      <th>1</th>\n      <td>1.0</td>\n      <td>714.535043</td>\n    </tr>\n    <tr>\n      <th>2</th>\n      <td>2.0</td>\n      <td>709.854346</td>\n    </tr>\n    <tr>\n      <th>3</th>\n      <td>3.0</td>\n      <td>707.039349</td>\n    </tr>\n    <tr>\n      <th>4</th>\n      <td>4.0</td>\n      <td>702.234286</td>\n    </tr>\n    <tr>\n      <th>...</th>\n      <td>...</td>\n      <td>...</td>\n    </tr>\n    <tr>\n      <th>78</th>\n      <td>78.0</td>\n      <td>534.715467</td>\n    </tr>\n    <tr>\n      <th>79</th>\n      <td>79.0</td>\n      <td>534.731729</td>\n    </tr>\n    <tr>\n      <th>80</th>\n      <td>80.0</td>\n      <td>533.296215</td>\n    </tr>\n    <tr>\n      <th>81</th>\n      <td>81.0</td>\n      <td>529.457138</td>\n    </tr>\n    <tr>\n      <th>82</th>\n      <td>82.0</td>\n      <td>530.596118</td>\n    </tr>\n  </tbody>\n</table>\n<p>83 rows × 2 columns</p>\n</div>"
     },
     "execution_count": 118,
     "metadata": {},
     "output_type": "execute_result"
    }
   ],
   "source": [
    "df_input.drop(\"cycle\", axis = 1)\n",
    "df_input.drop(\"q_value\", axis = 1)"
   ],
   "metadata": {
    "collapsed": false
   }
  },
  {
   "cell_type": "code",
   "execution_count": 119,
   "outputs": [
    {
     "data": {
      "text/plain": "MinMaxScaler()",
      "text/html": "<style>#sk-container-id-8 {color: black;background-color: white;}#sk-container-id-8 pre{padding: 0;}#sk-container-id-8 div.sk-toggleable {background-color: white;}#sk-container-id-8 label.sk-toggleable__label {cursor: pointer;display: block;width: 100%;margin-bottom: 0;padding: 0.3em;box-sizing: border-box;text-align: center;}#sk-container-id-8 label.sk-toggleable__label-arrow:before {content: \"▸\";float: left;margin-right: 0.25em;color: #696969;}#sk-container-id-8 label.sk-toggleable__label-arrow:hover:before {color: black;}#sk-container-id-8 div.sk-estimator:hover label.sk-toggleable__label-arrow:before {color: black;}#sk-container-id-8 div.sk-toggleable__content {max-height: 0;max-width: 0;overflow: hidden;text-align: left;background-color: #f0f8ff;}#sk-container-id-8 div.sk-toggleable__content pre {margin: 0.2em;color: black;border-radius: 0.25em;background-color: #f0f8ff;}#sk-container-id-8 input.sk-toggleable__control:checked~div.sk-toggleable__content {max-height: 200px;max-width: 100%;overflow: auto;}#sk-container-id-8 input.sk-toggleable__control:checked~label.sk-toggleable__label-arrow:before {content: \"▾\";}#sk-container-id-8 div.sk-estimator input.sk-toggleable__control:checked~label.sk-toggleable__label {background-color: #d4ebff;}#sk-container-id-8 div.sk-label input.sk-toggleable__control:checked~label.sk-toggleable__label {background-color: #d4ebff;}#sk-container-id-8 input.sk-hidden--visually {border: 0;clip: rect(1px 1px 1px 1px);clip: rect(1px, 1px, 1px, 1px);height: 1px;margin: -1px;overflow: hidden;padding: 0;position: absolute;width: 1px;}#sk-container-id-8 div.sk-estimator {font-family: monospace;background-color: #f0f8ff;border: 1px dotted black;border-radius: 0.25em;box-sizing: border-box;margin-bottom: 0.5em;}#sk-container-id-8 div.sk-estimator:hover {background-color: #d4ebff;}#sk-container-id-8 div.sk-parallel-item::after {content: \"\";width: 100%;border-bottom: 1px solid gray;flex-grow: 1;}#sk-container-id-8 div.sk-label:hover label.sk-toggleable__label {background-color: #d4ebff;}#sk-container-id-8 div.sk-serial::before {content: \"\";position: absolute;border-left: 1px solid gray;box-sizing: border-box;top: 0;bottom: 0;left: 50%;z-index: 0;}#sk-container-id-8 div.sk-serial {display: flex;flex-direction: column;align-items: center;background-color: white;padding-right: 0.2em;padding-left: 0.2em;position: relative;}#sk-container-id-8 div.sk-item {position: relative;z-index: 1;}#sk-container-id-8 div.sk-parallel {display: flex;align-items: stretch;justify-content: center;background-color: white;position: relative;}#sk-container-id-8 div.sk-item::before, #sk-container-id-8 div.sk-parallel-item::before {content: \"\";position: absolute;border-left: 1px solid gray;box-sizing: border-box;top: 0;bottom: 0;left: 50%;z-index: -1;}#sk-container-id-8 div.sk-parallel-item {display: flex;flex-direction: column;z-index: 1;position: relative;background-color: white;}#sk-container-id-8 div.sk-parallel-item:first-child::after {align-self: flex-end;width: 50%;}#sk-container-id-8 div.sk-parallel-item:last-child::after {align-self: flex-start;width: 50%;}#sk-container-id-8 div.sk-parallel-item:only-child::after {width: 0;}#sk-container-id-8 div.sk-dashed-wrapped {border: 1px dashed gray;margin: 0 0.4em 0.5em 0.4em;box-sizing: border-box;padding-bottom: 0.4em;background-color: white;}#sk-container-id-8 div.sk-label label {font-family: monospace;font-weight: bold;display: inline-block;line-height: 1.2em;}#sk-container-id-8 div.sk-label-container {text-align: center;}#sk-container-id-8 div.sk-container {/* jupyter's `normalize.less` sets `[hidden] { display: none; }` but bootstrap.min.css set `[hidden] { display: none !important; }` so we also need the `!important` here to be able to override the default hidden behavior on the sphinx rendered scikit-learn.org. See: https://github.com/scikit-learn/scikit-learn/issues/21755 */display: inline-block !important;position: relative;}#sk-container-id-8 div.sk-text-repr-fallback {display: none;}</style><div id=\"sk-container-id-8\" class=\"sk-top-container\"><div class=\"sk-text-repr-fallback\"><pre>MinMaxScaler()</pre><b>In a Jupyter environment, please rerun this cell to show the HTML representation or trust the notebook. <br />On GitHub, the HTML representation is unable to render, please try loading this page with nbviewer.org.</b></div><div class=\"sk-container\" hidden><div class=\"sk-item\"><div class=\"sk-estimator sk-toggleable\"><input class=\"sk-toggleable__control sk-hidden--visually\" id=\"sk-estimator-id-8\" type=\"checkbox\" checked><label for=\"sk-estimator-id-8\" class=\"sk-toggleable__label sk-toggleable__label-arrow\">MinMaxScaler</label><div class=\"sk-toggleable__content\"><pre>MinMaxScaler()</pre></div></div></div></div></div>"
     },
     "execution_count": 119,
     "metadata": {},
     "output_type": "execute_result"
    }
   ],
   "source": [
    "sc = MinMaxScaler()\n",
    "label_sc = MinMaxScaler()\n",
    "data = sc.fit_transform(df_input.values)\n",
    "label_sc.fit(df_input.iloc[:,0].values.reshape(-1,1))\n"
   ],
   "metadata": {
    "collapsed": false
   }
  },
  {
   "cell_type": "code",
   "execution_count": 120,
   "outputs": [],
   "source": [
    "lookback = 10\n",
    "inputs = np.zeros((len(data)-lookback,lookback,df_input.shape[1]))\n",
    "labels = np.zeros(len(data)-lookback)\n"
   ],
   "metadata": {
    "collapsed": false
   }
  },
  {
   "cell_type": "code",
   "execution_count": 121,
   "outputs": [],
   "source": [
    "for i in range(lookback, len(data)):\n",
    "    inputs[i-lookback] = data[i-lookback:i]\n",
    "    labels[i-lookback] = data[i,0]\n",
    "inputs = inputs.reshape(-1,lookback,df_input.shape[1])\n",
    "labels = labels.reshape(-1,1)"
   ],
   "metadata": {
    "collapsed": false
   }
  },
  {
   "cell_type": "code",
   "execution_count": 122,
   "outputs": [],
   "source": [
    "test_portion = int(0.1*len(inputs))\n",
    "\n",
    "train_x = inputs[:-test_portion]\n",
    "train_y = labels[:-test_portion]\n",
    "\n",
    "test_x = (inputs[-test_portion:])\n",
    "test_y = (labels[-test_portion:])"
   ],
   "metadata": {
    "collapsed": false
   }
  },
  {
   "cell_type": "code",
   "execution_count": 123,
   "outputs": [],
   "source": [
    "batch_size = 32\n",
    "train_data = TensorDataset(torch.from_numpy(train_x), torch.from_numpy(train_y))\n",
    "train_loader = DataLoader(train_data, shuffle=True, batch_size=batch_size, drop_last=True)"
   ],
   "metadata": {
    "collapsed": false
   }
  },
  {
   "cell_type": "code",
   "execution_count": 124,
   "outputs": [],
   "source": [
    "device = torch.device(\"cpu\")"
   ],
   "metadata": {
    "collapsed": false
   }
  },
  {
   "cell_type": "code",
   "execution_count": 125,
   "outputs": [],
   "source": [
    "class GRUNet(nn.Module):\n",
    "    def __init__(self, input_dim, hidden_dim, output_dim, n_layers, drop_prob=0.2):\n",
    "        super(GRUNet, self).__init__()\n",
    "        self.hidden_dim = hidden_dim\n",
    "        self.n_layers = n_layers\n",
    "\n",
    "        self.gru = nn.GRU(input_dim, hidden_dim, n_layers, batch_first=True, dropout=drop_prob)\n",
    "        self.fc = nn.Linear(hidden_dim, output_dim)\n",
    "        self.relu = nn.ReLU()\n",
    "\n",
    "    def forward(self, x, h):\n",
    "        out, h = self.gru(x, h)\n",
    "        out = self.fc(self.relu(out[:,-1]))\n",
    "        return out, h\n",
    "\n",
    "    def init_hidden(self, batch_size):\n",
    "        weight = next(self.parameters()).data\n",
    "        hidden = weight.new(self.n_layers, batch_size, self.hidden_dim).zero_().to(device)\n",
    "        return hidden"
   ],
   "metadata": {
    "collapsed": false
   }
  },
  {
   "cell_type": "code",
   "execution_count": 126,
   "outputs": [],
   "source": [
    "def train(train_loader, learn_rate, hidden_dim=256, EPOCHS=5, model_type=\"GRU\"):\n",
    "\n",
    "    # Setting common hyperparameters\n",
    "    input_dim = next(iter(train_loader))[0].shape[2]\n",
    "    output_dim = 1\n",
    "    n_layers = 2\n",
    "    # Instantiating the models\n",
    "\n",
    "    model = GRUNet(input_dim, hidden_dim, output_dim, n_layers)\n",
    "\n",
    "    model.to(device)\n",
    "\n",
    "    # Defining loss function and optimizer\n",
    "    criterion = nn.MSELoss()\n",
    "    optimizer = torch.optim.Adam(model.parameters(), lr=learn_rate)\n",
    "\n",
    "    model.train()\n",
    "    print(\"Starting Training of {} model\".format(model_type))\n",
    "    epoch_times = []\n",
    "    # Start training loop\n",
    "    for epoch in range(1,EPOCHS+1):\n",
    "        start_time = time.process_time()\n",
    "        h = model.init_hidden(batch_size)\n",
    "        avg_loss = 0.\n",
    "        counter = 0\n",
    "        for x, label in train_loader:\n",
    "            counter += 1\n",
    "            h = h.data\n",
    "            model.zero_grad()\n",
    "\n",
    "            out, h = model(x.to(device).float(), h)\n",
    "            loss = criterion(out, label.to(device).float())\n",
    "            loss.backward()\n",
    "            optimizer.step()\n",
    "            avg_loss += loss.item()\n",
    "            if counter%200 == 0:\n",
    "                print(\"Epoch {}......Step: {}/{}....... Average Loss for Epoch: {}\".format(epoch, counter, len(train_loader), avg_loss/counter))\n",
    "        current_time = time.process_time()\n",
    "        print(\"Epoch {}/{} Done, Total Loss: {}\".format(epoch, EPOCHS, avg_loss/len(train_loader)))\n",
    "        print(\"Total Time Elapsed: {} seconds\".format(str(current_time-start_time)))\n",
    "        epoch_times.append(current_time-start_time)\n",
    "    print(\"Total Training Time: {} seconds\".format(str(sum(epoch_times))))\n",
    "    return model\n",
    "\n",
    "def evaluate(model, test_x, test_y, label_scalers):\n",
    "    model.eval()\n",
    "    outputs = []\n",
    "    targets = []\n",
    "    start_time = time.process_time()\n",
    "    for i in test_x.keys():\n",
    "        inp = torch.from_numpy(np.array(test_x[i]))\n",
    "        labs = torch.from_numpy(np.array(test_y[i]))\n",
    "        h = model.init_hidden(inp.shape[0])\n",
    "        out, h = model(inp.to(device).float(), h)\n",
    "        outputs.append(label_scalers[i].inverse_transform(out.cpu().detach().numpy()).reshape(-1))\n",
    "        targets.append(label_scalers[i].inverse_transform(labs.numpy()).reshape(-1))\n",
    "    print(\"Evaluation Time: {}\".format(str(time.process_time()-start_time)))\n",
    "    sMAPE = 0\n",
    "    for i in range(len(outputs)):\n",
    "        sMAPE += np.mean(abs(outputs[i]-targets[i])/(targets[i]+outputs[i])/2)/len(outputs)\n",
    "    print(\"sMAPE: {}%\".format(sMAPE*100))\n",
    "    return outputs, targets, sMAPE"
   ],
   "metadata": {
    "collapsed": false
   }
  },
  {
   "cell_type": "code",
   "execution_count": 127,
   "outputs": [
    {
     "name": "stdout",
     "output_type": "stream",
     "text": [
      "Starting Training of GRU model\n",
      "Epoch 1/5 Done, Total Loss: nan\n",
      "Total Time Elapsed: 0.796875 seconds\n",
      "Epoch 2/5 Done, Total Loss: nan\n",
      "Total Time Elapsed: 0.53125 seconds\n",
      "Epoch 3/5 Done, Total Loss: nan\n",
      "Total Time Elapsed: 0.171875 seconds\n",
      "Epoch 4/5 Done, Total Loss: nan\n",
      "Total Time Elapsed: 0.328125 seconds\n",
      "Epoch 5/5 Done, Total Loss: nan\n",
      "Total Time Elapsed: 0.265625 seconds\n",
      "Total Training Time: 2.09375 seconds\n"
     ]
    }
   ],
   "source": [
    "lr = 0.001\n",
    "gru_model = train(train_loader, lr, model_type=\"GRU\")"
   ],
   "metadata": {
    "collapsed": false
   }
  },
  {
   "cell_type": "code",
   "execution_count": 127,
   "outputs": [],
   "source": [],
   "metadata": {
    "collapsed": false
   }
  }
 ],
 "metadata": {
  "kernelspec": {
   "display_name": "venv",
   "language": "python",
   "name": "python3"
  },
  "language_info": {
   "codemirror_mode": {
    "name": "ipython",
    "version": 3
   },
   "file_extension": ".py",
   "mimetype": "text/x-python",
   "name": "python",
   "nbconvert_exporter": "python",
   "pygments_lexer": "ipython3",
   "version": "3.10.8"
  },
  "vscode": {
   "interpreter": {
    "hash": "abb986b297a1e39e4a9784cac1041b65609e2eefd57e07e1d90a430925bc2fc5"
   }
  }
 },
 "nbformat": 4,
 "nbformat_minor": 0
}
