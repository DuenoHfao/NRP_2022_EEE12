{
 "cells": [
  {
   "cell_type": "code",
   "execution_count": 1,
   "id": "04b12cbc",
   "metadata": {},
   "outputs": [
    {
     "name": "stdout",
     "output_type": "stream",
     "text": [
      "Integral(exp(-5*x)*sin(x**3), x)\n"
     ]
    }
   ],
   "source": [
    "import sympy as smp\n",
    "\n",
    "x = smp.symbols('x', real=True)\n",
    "fx = smp.sin(x**3) * smp.exp(-5*x)\n",
    "\n",
    "integral = smp.integrate(fx,x).simplify()\n",
    "print(integral)"
   ]
  },
  {
   "cell_type": "code",
   "execution_count": null,
   "id": "fd641260",
   "metadata": {},
   "outputs": [],
   "source": []
  }
 ],
 "metadata": {
  "kernelspec": {
   "display_name": "Python 3 (ipykernel)",
   "language": "python",
   "name": "python3"
  },
  "language_info": {
   "codemirror_mode": {
    "name": "ipython",
    "version": 3
   },
   "file_extension": ".py",
   "mimetype": "text/x-python",
   "name": "python",
   "nbconvert_exporter": "python",
   "pygments_lexer": "ipython3",
   "version": "3.9.7"
  }
 },
 "nbformat": 4,
 "nbformat_minor": 5
}
